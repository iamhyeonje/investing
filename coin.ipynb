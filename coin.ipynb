{
 "cells": [
  {
   "cell_type": "code",
   "execution_count": 2,
   "id": "after-viewer",
   "metadata": {},
   "outputs": [
    {
     "name": "stderr",
     "output_type": "stream",
     "text": [
      "/Users/hyunsuk/.pyenv/versions/3.9.1/envs/ds/lib/python3.9/site-packages/pandas/compat/__init__.py:109: UserWarning: Could not import the lzma module. Your installed Python is incomplete. Attempting to use lzma compression will result in a RuntimeError.\n",
      "  warnings.warn(msg)\n"
     ]
    }
   ],
   "source": [
    "import pandas as pd\n",
    "import matplotlib.pyplot as plt\n",
    "import seaborn as sns\n",
    "import psycopg2"
   ]
  },
  {
   "cell_type": "code",
   "execution_count": 3,
   "id": "alone-frontier",
   "metadata": {},
   "outputs": [],
   "source": [
    "connection = psycopg2.connect(host='localhost', dbname='coin',user='hyunsuk',password='fun309',port=5432)\n",
    "cursor = connection.cursor()"
   ]
  },
  {
   "cell_type": "code",
   "execution_count": 4,
   "id": "narrative-recommendation",
   "metadata": {},
   "outputs": [],
   "source": [
    "sql = \"\"\"\n",
    "    SELECT *\n",
    "    FROM candles\n",
    "\"\"\"\n",
    "cursor.execute(sql)\n",
    "df = pd.DataFrame(cursor.fetchall(), columns = ['market', 'datetime', 'open', 'high', 'low', 'close', 'volume', 'value'])\n",
    "df.set_index('datetime', inplace=True)"
   ]
  },
  {
   "cell_type": "code",
   "execution_count": 5,
   "id": "subject-conclusion",
   "metadata": {},
   "outputs": [
    {
     "data": {
      "text/html": [
       "<div>\n",
       "<style scoped>\n",
       "    .dataframe tbody tr th:only-of-type {\n",
       "        vertical-align: middle;\n",
       "    }\n",
       "\n",
       "    .dataframe tbody tr th {\n",
       "        vertical-align: top;\n",
       "    }\n",
       "\n",
       "    .dataframe thead th {\n",
       "        text-align: right;\n",
       "    }\n",
       "</style>\n",
       "<table border=\"1\" class=\"dataframe\">\n",
       "  <thead>\n",
       "    <tr style=\"text-align: right;\">\n",
       "      <th></th>\n",
       "      <th>market</th>\n",
       "      <th>open</th>\n",
       "      <th>high</th>\n",
       "      <th>low</th>\n",
       "      <th>close</th>\n",
       "      <th>volume</th>\n",
       "      <th>value</th>\n",
       "    </tr>\n",
       "    <tr>\n",
       "      <th>datetime</th>\n",
       "      <th></th>\n",
       "      <th></th>\n",
       "      <th></th>\n",
       "      <th></th>\n",
       "      <th></th>\n",
       "      <th></th>\n",
       "      <th></th>\n",
       "    </tr>\n",
       "  </thead>\n",
       "  <tbody>\n",
       "    <tr>\n",
       "      <th>2021-10-23 07:20:00</th>\n",
       "      <td>KRW-ETH</td>\n",
       "      <td>4871000.0</td>\n",
       "      <td>4873000.0</td>\n",
       "      <td>4871000.0</td>\n",
       "      <td>4872000.0</td>\n",
       "      <td>12.141957</td>\n",
       "      <td>5.915359e+07</td>\n",
       "    </tr>\n",
       "    <tr>\n",
       "      <th>2021-10-23 07:21:00</th>\n",
       "      <td>KRW-ETH</td>\n",
       "      <td>4873000.0</td>\n",
       "      <td>4879000.0</td>\n",
       "      <td>4873000.0</td>\n",
       "      <td>4877000.0</td>\n",
       "      <td>13.249580</td>\n",
       "      <td>6.458540e+07</td>\n",
       "    </tr>\n",
       "    <tr>\n",
       "      <th>2021-10-23 07:22:00</th>\n",
       "      <td>KRW-ETH</td>\n",
       "      <td>4876000.0</td>\n",
       "      <td>4879000.0</td>\n",
       "      <td>4874000.0</td>\n",
       "      <td>4876000.0</td>\n",
       "      <td>73.690283</td>\n",
       "      <td>3.592870e+08</td>\n",
       "    </tr>\n",
       "    <tr>\n",
       "      <th>2021-10-23 07:23:00</th>\n",
       "      <td>KRW-ETH</td>\n",
       "      <td>4876000.0</td>\n",
       "      <td>4878000.0</td>\n",
       "      <td>4874000.0</td>\n",
       "      <td>4875000.0</td>\n",
       "      <td>22.151015</td>\n",
       "      <td>1.079877e+08</td>\n",
       "    </tr>\n",
       "    <tr>\n",
       "      <th>2021-10-23 07:24:00</th>\n",
       "      <td>KRW-ETH</td>\n",
       "      <td>4878000.0</td>\n",
       "      <td>4880000.0</td>\n",
       "      <td>4875000.0</td>\n",
       "      <td>4878000.0</td>\n",
       "      <td>23.535639</td>\n",
       "      <td>1.148077e+08</td>\n",
       "    </tr>\n",
       "  </tbody>\n",
       "</table>\n",
       "</div>"
      ],
      "text/plain": [
       "                                   market       open       high        low  \\\n",
       "datetime                                                                     \n",
       "2021-10-23 07:20:00  KRW-ETH               4871000.0  4873000.0  4871000.0   \n",
       "2021-10-23 07:21:00  KRW-ETH               4873000.0  4879000.0  4873000.0   \n",
       "2021-10-23 07:22:00  KRW-ETH               4876000.0  4879000.0  4874000.0   \n",
       "2021-10-23 07:23:00  KRW-ETH               4876000.0  4878000.0  4874000.0   \n",
       "2021-10-23 07:24:00  KRW-ETH               4878000.0  4880000.0  4875000.0   \n",
       "\n",
       "                         close     volume         value  \n",
       "datetime                                                 \n",
       "2021-10-23 07:20:00  4872000.0  12.141957  5.915359e+07  \n",
       "2021-10-23 07:21:00  4877000.0  13.249580  6.458540e+07  \n",
       "2021-10-23 07:22:00  4876000.0  73.690283  3.592870e+08  \n",
       "2021-10-23 07:23:00  4875000.0  22.151015  1.079877e+08  \n",
       "2021-10-23 07:24:00  4878000.0  23.535639  1.148077e+08  "
      ]
     },
     "execution_count": 5,
     "metadata": {},
     "output_type": "execute_result"
    }
   ],
   "source": [
    "df.head()"
   ]
  },
  {
   "cell_type": "code",
   "execution_count": 6,
   "id": "serious-aside",
   "metadata": {},
   "outputs": [],
   "source": [
    "def get_stochastic_fast_k(close_price, low, high, n=5):\n",
    "    fast_k = ((close_price - low.rolling(n).min()) / (high.rolling(n).max() - low.rolling(n).min())) * 100\n",
    "    return fast_k\n",
    "\n",
    "# Slow %K = Fast %K의 m기간 이동평균(SMA)\n",
    "def get_stochastic_slow_k(fast_k, n=3):\n",
    "    slow_k = fast_k.rolling(n).mean()\n",
    "    return slow_k\n",
    "\n",
    "# Slow %D = Slow %K의 t기간 이동평균(SMA)\n",
    "def get_stochastic_slow_d(slow_k, n=3):\n",
    "    slow_d = slow_k.rolling(n).mean()\n",
    "    return slow_d\n",
    "\n",
    "def get_macd(price, slow, fast, smooth):\n",
    "    exp1 = price.ewm(span = fast, adjust = False).mean()\n",
    "    exp2 = price.ewm(span = slow, adjust = False).mean()\n",
    "    macd = pd.DataFrame(exp1 - exp2).rename(columns = {'close':'macd'})\n",
    "    signal = pd.DataFrame(macd.ewm(span = smooth, adjust = False).mean()).rename(columns = {'macd':'signal'})\n",
    "    hist = pd.DataFrame(macd['macd'] - signal['signal']).rename(columns = {0:'hist'})\n",
    "    frames =  [macd, signal, hist]\n",
    "    df = pd.concat(frames, join = 'inner', axis = 1)\n",
    "    return df\n",
    "\n",
    "def get_rsi(price, period=14):\n",
    "    delta = price.diff()\n",
    "    gains, declines = delta.copy(), delta.copy()\n",
    "    gains[gains < 0] = 0\n",
    "    declines[declines > 0] = 0\n",
    "    \n",
    "    _gain = gains.ewm(com=(period-1), min_periods=period).mean()\n",
    "    _loss = declines.abs().ewm(com=(period-1), min_periods=period).mean()\n",
    "    RS = _gain / _loss\n",
    "    \n",
    "    return pd.Series(100 - (100/(1+RS)), name = 'RSI')\n",
    "\n",
    "\n",
    "## MA: 이동평균선\n",
    "df['MA5'] = df['close'].rolling(window=5).mean()\n",
    "df['MA20'] = df['close'].rolling(window=20).mean()\n",
    "df['MA60'] = df['close'].rolling(window=60).mean()\n",
    "# df['MA200'] = df['Close'].rolling(window=200).mean()\n",
    "\n",
    "df['stddev'] = df['close'].rolling(window=20).std() # 20일 이동표준편차\n",
    "df['upper'] = df['MA20'] + 2*df['stddev'] # 상단밴드\n",
    "df['lower'] = df['MA20'] - 2*df['stddev'] # 하단밴드\n",
    "df['upper-lower'] = df['upper']-df['lower']\n",
    "\n",
    "df['MA20-MA5'] = df['MA20'] - df['MA5']\n",
    "df['MA60-MA20'] = df['MA60'] - df['MA20']\n",
    "\n",
    "# MACD\n",
    "macd_short, macd_long, macd_signal=12,26,9 #기본값\n",
    "df[\"MACD_short\"]=df['close'].ewm(span=macd_short).mean()\n",
    "df[\"MACD_long\"]=df['close'].ewm(span=macd_long).mean()\n",
    "df[\"MACD\"]=df.apply(lambda x: (x[\"MACD_short\"]-x[\"MACD_long\"]), axis=1)\n",
    "df[\"MACD_signal\"]=df[\"MACD\"].ewm(span=macd_signal).mean()  \n",
    "df[\"MACD_oscillator\"]=df.apply(lambda x:(x[\"MACD\"]-x[\"MACD_signal\"]), axis=1)\n",
    "df[\"MACD_sign\"]=df.apply(lambda x: (\"매수\" if x[\"MACD\"]>x[\"MACD_signal\"] else \"매도\"), axis=1)\n",
    "\n",
    "\n",
    "# fast_k, slow_k, slow_d를 획득\n",
    "df['fast_k5'] = get_stochastic_fast_k(df['close'], df['low'], df['high'], 5)\n",
    "df['slow_k3'] = get_stochastic_slow_k(df['fast_k5'], 3)\n",
    "df['slow_d3'] = get_stochastic_slow_d(df['slow_k3'], 3)\n",
    "\n",
    "df['fast_k10'] = get_stochastic_fast_k(df['close'], df['low'], df['high'], 10)\n",
    "df['slow_k6'] = get_stochastic_slow_k(df['fast_k10'], 6)\n",
    "df['slow_d6'] = get_stochastic_slow_d(df['slow_k6'], 6)\n",
    "\n",
    "df['fast_k20'] = get_stochastic_fast_k(df['close'], df['low'], df['high'], 20)\n",
    "df['slow_k12'] = get_stochastic_slow_k(df['fast_k20'], 12)\n",
    "df['slow_d12'] = get_stochastic_slow_d(df['slow_k12'], 12)\n",
    "\n",
    "\n",
    "# RSI\n",
    "df['rsi'] = get_rsi(df['close'])"
   ]
  },
  {
   "cell_type": "code",
   "execution_count": 7,
   "id": "toxic-basement",
   "metadata": {},
   "outputs": [
    {
     "data": {
      "text/html": [
       "<div>\n",
       "<style scoped>\n",
       "    .dataframe tbody tr th:only-of-type {\n",
       "        vertical-align: middle;\n",
       "    }\n",
       "\n",
       "    .dataframe tbody tr th {\n",
       "        vertical-align: top;\n",
       "    }\n",
       "\n",
       "    .dataframe thead th {\n",
       "        text-align: right;\n",
       "    }\n",
       "</style>\n",
       "<table border=\"1\" class=\"dataframe\">\n",
       "  <thead>\n",
       "    <tr style=\"text-align: right;\">\n",
       "      <th></th>\n",
       "      <th>market</th>\n",
       "      <th>open</th>\n",
       "      <th>high</th>\n",
       "      <th>low</th>\n",
       "      <th>close</th>\n",
       "      <th>volume</th>\n",
       "      <th>value</th>\n",
       "      <th>MA5</th>\n",
       "      <th>MA20</th>\n",
       "      <th>MA60</th>\n",
       "      <th>...</th>\n",
       "      <th>fast_k5</th>\n",
       "      <th>slow_k3</th>\n",
       "      <th>slow_d3</th>\n",
       "      <th>fast_k10</th>\n",
       "      <th>slow_k6</th>\n",
       "      <th>slow_d6</th>\n",
       "      <th>fast_k20</th>\n",
       "      <th>slow_k12</th>\n",
       "      <th>slow_d12</th>\n",
       "      <th>rsi</th>\n",
       "    </tr>\n",
       "    <tr>\n",
       "      <th>datetime</th>\n",
       "      <th></th>\n",
       "      <th></th>\n",
       "      <th></th>\n",
       "      <th></th>\n",
       "      <th></th>\n",
       "      <th></th>\n",
       "      <th></th>\n",
       "      <th></th>\n",
       "      <th></th>\n",
       "      <th></th>\n",
       "      <th></th>\n",
       "      <th></th>\n",
       "      <th></th>\n",
       "      <th></th>\n",
       "      <th></th>\n",
       "      <th></th>\n",
       "      <th></th>\n",
       "      <th></th>\n",
       "      <th></th>\n",
       "      <th></th>\n",
       "      <th></th>\n",
       "    </tr>\n",
       "  </thead>\n",
       "  <tbody>\n",
       "    <tr>\n",
       "      <th>2021-10-23 07:20:00</th>\n",
       "      <td>KRW-ETH</td>\n",
       "      <td>4871000.0</td>\n",
       "      <td>4873000.0</td>\n",
       "      <td>4871000.0</td>\n",
       "      <td>4872000.0</td>\n",
       "      <td>12.141957</td>\n",
       "      <td>5.915359e+07</td>\n",
       "      <td>NaN</td>\n",
       "      <td>NaN</td>\n",
       "      <td>NaN</td>\n",
       "      <td>...</td>\n",
       "      <td>NaN</td>\n",
       "      <td>NaN</td>\n",
       "      <td>NaN</td>\n",
       "      <td>NaN</td>\n",
       "      <td>NaN</td>\n",
       "      <td>NaN</td>\n",
       "      <td>NaN</td>\n",
       "      <td>NaN</td>\n",
       "      <td>NaN</td>\n",
       "      <td>NaN</td>\n",
       "    </tr>\n",
       "    <tr>\n",
       "      <th>2021-10-23 07:21:00</th>\n",
       "      <td>KRW-ETH</td>\n",
       "      <td>4873000.0</td>\n",
       "      <td>4879000.0</td>\n",
       "      <td>4873000.0</td>\n",
       "      <td>4877000.0</td>\n",
       "      <td>13.249580</td>\n",
       "      <td>6.458540e+07</td>\n",
       "      <td>NaN</td>\n",
       "      <td>NaN</td>\n",
       "      <td>NaN</td>\n",
       "      <td>...</td>\n",
       "      <td>NaN</td>\n",
       "      <td>NaN</td>\n",
       "      <td>NaN</td>\n",
       "      <td>NaN</td>\n",
       "      <td>NaN</td>\n",
       "      <td>NaN</td>\n",
       "      <td>NaN</td>\n",
       "      <td>NaN</td>\n",
       "      <td>NaN</td>\n",
       "      <td>NaN</td>\n",
       "    </tr>\n",
       "    <tr>\n",
       "      <th>2021-10-23 07:22:00</th>\n",
       "      <td>KRW-ETH</td>\n",
       "      <td>4876000.0</td>\n",
       "      <td>4879000.0</td>\n",
       "      <td>4874000.0</td>\n",
       "      <td>4876000.0</td>\n",
       "      <td>73.690283</td>\n",
       "      <td>3.592870e+08</td>\n",
       "      <td>NaN</td>\n",
       "      <td>NaN</td>\n",
       "      <td>NaN</td>\n",
       "      <td>...</td>\n",
       "      <td>NaN</td>\n",
       "      <td>NaN</td>\n",
       "      <td>NaN</td>\n",
       "      <td>NaN</td>\n",
       "      <td>NaN</td>\n",
       "      <td>NaN</td>\n",
       "      <td>NaN</td>\n",
       "      <td>NaN</td>\n",
       "      <td>NaN</td>\n",
       "      <td>NaN</td>\n",
       "    </tr>\n",
       "    <tr>\n",
       "      <th>2021-10-23 07:23:00</th>\n",
       "      <td>KRW-ETH</td>\n",
       "      <td>4876000.0</td>\n",
       "      <td>4878000.0</td>\n",
       "      <td>4874000.0</td>\n",
       "      <td>4875000.0</td>\n",
       "      <td>22.151015</td>\n",
       "      <td>1.079877e+08</td>\n",
       "      <td>NaN</td>\n",
       "      <td>NaN</td>\n",
       "      <td>NaN</td>\n",
       "      <td>...</td>\n",
       "      <td>NaN</td>\n",
       "      <td>NaN</td>\n",
       "      <td>NaN</td>\n",
       "      <td>NaN</td>\n",
       "      <td>NaN</td>\n",
       "      <td>NaN</td>\n",
       "      <td>NaN</td>\n",
       "      <td>NaN</td>\n",
       "      <td>NaN</td>\n",
       "      <td>NaN</td>\n",
       "    </tr>\n",
       "    <tr>\n",
       "      <th>2021-10-23 07:24:00</th>\n",
       "      <td>KRW-ETH</td>\n",
       "      <td>4878000.0</td>\n",
       "      <td>4880000.0</td>\n",
       "      <td>4875000.0</td>\n",
       "      <td>4878000.0</td>\n",
       "      <td>23.535639</td>\n",
       "      <td>1.148077e+08</td>\n",
       "      <td>4875600.0</td>\n",
       "      <td>NaN</td>\n",
       "      <td>NaN</td>\n",
       "      <td>...</td>\n",
       "      <td>77.777778</td>\n",
       "      <td>NaN</td>\n",
       "      <td>NaN</td>\n",
       "      <td>NaN</td>\n",
       "      <td>NaN</td>\n",
       "      <td>NaN</td>\n",
       "      <td>NaN</td>\n",
       "      <td>NaN</td>\n",
       "      <td>NaN</td>\n",
       "      <td>NaN</td>\n",
       "    </tr>\n",
       "  </tbody>\n",
       "</table>\n",
       "<p>5 rows × 32 columns</p>\n",
       "</div>"
      ],
      "text/plain": [
       "                                   market       open       high        low  \\\n",
       "datetime                                                                     \n",
       "2021-10-23 07:20:00  KRW-ETH               4871000.0  4873000.0  4871000.0   \n",
       "2021-10-23 07:21:00  KRW-ETH               4873000.0  4879000.0  4873000.0   \n",
       "2021-10-23 07:22:00  KRW-ETH               4876000.0  4879000.0  4874000.0   \n",
       "2021-10-23 07:23:00  KRW-ETH               4876000.0  4878000.0  4874000.0   \n",
       "2021-10-23 07:24:00  KRW-ETH               4878000.0  4880000.0  4875000.0   \n",
       "\n",
       "                         close     volume         value        MA5  MA20  \\\n",
       "datetime                                                                   \n",
       "2021-10-23 07:20:00  4872000.0  12.141957  5.915359e+07        NaN   NaN   \n",
       "2021-10-23 07:21:00  4877000.0  13.249580  6.458540e+07        NaN   NaN   \n",
       "2021-10-23 07:22:00  4876000.0  73.690283  3.592870e+08        NaN   NaN   \n",
       "2021-10-23 07:23:00  4875000.0  22.151015  1.079877e+08        NaN   NaN   \n",
       "2021-10-23 07:24:00  4878000.0  23.535639  1.148077e+08  4875600.0   NaN   \n",
       "\n",
       "                     MA60  ...    fast_k5  slow_k3  slow_d3  fast_k10  \\\n",
       "datetime                   ...                                          \n",
       "2021-10-23 07:20:00   NaN  ...        NaN      NaN      NaN       NaN   \n",
       "2021-10-23 07:21:00   NaN  ...        NaN      NaN      NaN       NaN   \n",
       "2021-10-23 07:22:00   NaN  ...        NaN      NaN      NaN       NaN   \n",
       "2021-10-23 07:23:00   NaN  ...        NaN      NaN      NaN       NaN   \n",
       "2021-10-23 07:24:00   NaN  ...  77.777778      NaN      NaN       NaN   \n",
       "\n",
       "                     slow_k6  slow_d6  fast_k20  slow_k12  slow_d12  rsi  \n",
       "datetime                                                                  \n",
       "2021-10-23 07:20:00      NaN      NaN       NaN       NaN       NaN  NaN  \n",
       "2021-10-23 07:21:00      NaN      NaN       NaN       NaN       NaN  NaN  \n",
       "2021-10-23 07:22:00      NaN      NaN       NaN       NaN       NaN  NaN  \n",
       "2021-10-23 07:23:00      NaN      NaN       NaN       NaN       NaN  NaN  \n",
       "2021-10-23 07:24:00      NaN      NaN       NaN       NaN       NaN  NaN  \n",
       "\n",
       "[5 rows x 32 columns]"
      ]
     },
     "execution_count": 7,
     "metadata": {},
     "output_type": "execute_result"
    }
   ],
   "source": [
    "df.head()"
   ]
  },
  {
   "cell_type": "code",
   "execution_count": 15,
   "id": "narrative-texas",
   "metadata": {},
   "outputs": [
    {
     "data": {
      "text/plain": [
       "Text(0.5, 1.0, 'earn+20 size')"
      ]
     },
     "execution_count": 15,
     "metadata": {},
     "output_type": "execute_result"
    },
    {
     "data": {
      "image/png": "[encoded data removed]",
      "text/plain": [
       "<Figure size 432x288 with 1 Axes>"
      ]
     },
     "metadata": {
      "needs_background": "light"
     },
     "output_type": "display_data"
    }
   ],
   "source": [
    "df['close_t+20'] = df['close'].shift(-20)\n",
    "df['close_t+60'] = df['close'].shift(-60)\n",
    "df['close_t+120'] = df['close'].shift(-120)\n",
    "\n",
    "df['earn+20'] = (1.05*df['close'] < df['close_t+20']).astype(int)\n",
    "df['earn+60'] = (1.05*df['close'] < df['close_t+60']).astype(int)\n",
    "df['earn+120'] = (1.05*df['close'] < df['close_t+120']).astype(int)\n",
    "\n",
    "df['earn+120'].plot()\n",
    "plt.title('earn+20 size')"
   ]
  },
  {
   "cell_type": "code",
   "execution_count": 16,
   "id": "grand-southwest",
   "metadata": {},
   "outputs": [],
   "source": [
    "#t-1의 값을 Feature로 사용하기 위함\n",
    "\n",
    "features = [\n",
    "    'close', 'open', 'high', 'low', 'volume', 'MA5', 'MA20', 'MA60', \n",
    "    'MA60-MA20', 'MA20-MA5', 'MACD', 'MACD_oscillator', \n",
    "    'MACD_signal', 'fast_k5', 'slow_k3', 'slow_d3', 'fast_k10', 'slow_k6', 'slow_d6', \n",
    "    'fast_k20', 'slow_k12', 'slow_d12', 'rsi', 'upper', 'lower', 'stddev', 'upper-lower'\n",
    "]\n",
    "\n",
    "for feature in features:\n",
    "    df[feature+'-1']=df[feature].shift(1)"
   ]
  },
  {
   "cell_type": "code",
   "execution_count": 17,
   "id": "single-acquisition",
   "metadata": {},
   "outputs": [
    {
     "name": "stdout",
     "output_type": "stream",
     "text": [
      "Total: 50217\n",
      "5% up: 244\n"
     ]
    },
    {
     "name": "stderr",
     "output_type": "stream",
     "text": [
      "<ipython-input-17-8429ad8a80bb>:3: UserWarning: Boolean Series key will be reindexed to match DataFrame index.\n",
      "  print('5% up: {}'.format(len(df_na[df['earn+120']==1])))\n"
     ]
    }
   ],
   "source": [
    "df_na = df.dropna()\n",
    "print('Total: {}'.format(len(df_na)))\n",
    "print('5% up: {}'.format(len(df_na[df['earn+120']==1])))\n"
   ]
  },
  {
   "cell_type": "code",
   "execution_count": 18,
   "id": "endangered-wrist",
   "metadata": {},
   "outputs": [],
   "source": [
    "features = [\n",
    "    'volume-1', 'MA20-MA5-1', 'MA60-MA20-1', 'MACD-1', 'MACD_oscillator-1', \n",
    "    'MACD_signal-1', 'slow_k3-1', 'slow_d3-1', 'slow_k6-1', 'slow_d6-1', \n",
    "    'slow_k12-1', 'slow_d12-1', 'rsi-1', 'upper-1', 'lower-1', 'stddev-1', 'upper-lower-1'\n",
    "]\n",
    "\n",
    "target = df_na['earn+120']"
   ]
  },
  {
   "cell_type": "code",
   "execution_count": 19,
   "id": "decent-driver",
   "metadata": {},
   "outputs": [],
   "source": [
    "from sklearn.model_selection import train_test_split\n",
    "\n",
    "X_train, X_test, y_train, y_test = train_test_split(df_na[features], target, test_size=0.25, random_state=123456)\n"
   ]
  },
  {
   "cell_type": "code",
   "execution_count": 21,
   "id": "aggressive-conviction",
   "metadata": {},
   "outputs": [
    {
     "name": "stderr",
     "output_type": "stream",
     "text": [
      "/Users/hyunsuk/.pyenv/versions/3.9.1/envs/ds/lib/python3.9/site-packages/sklearn/base.py:445: UserWarning: X does not have valid feature names, but RandomForestClassifier was fitted with feature names\n",
      "  warnings.warn(\n"
     ]
    },
    {
     "data": {
      "text/plain": [
       "RandomForestClassifier(oob_score=True, random_state=123456)"
      ]
     },
     "execution_count": 21,
     "metadata": {},
     "output_type": "execute_result"
    }
   ],
   "source": [
    "rf = RandomForestClassifier(n_estimators=100, oob_score=True, random_state=123456)\n",
    "rf.fit(X_train, y_train)"
   ]
  },
  {
   "cell_type": "code",
   "execution_count": 22,
   "id": "advanced-authentication",
   "metadata": {},
   "outputs": [
    {
     "name": "stdout",
     "output_type": "stream",
     "text": [
      "Out-of-bag score estimate: 0.998\n",
      "Mean accuracy score: 0.998\n"
     ]
    }
   ],
   "source": [
    "from sklearn.metrics import accuracy_score\n",
    "\n",
    "predicted = rf.predict(X_test)\n",
    "accuracy = accuracy_score(y_test, predicted)\n",
    "\n",
    "print(f'Out-of-bag score estimate: {rf.oob_score_:.3}')\n",
    "print(f'Mean accuracy score: {accuracy:.3}')\n"
   ]
  },
  {
   "cell_type": "code",
   "execution_count": 24,
   "id": "corporate-difficulty",
   "metadata": {},
   "outputs": [
    {
     "name": "stdout",
     "output_type": "stream",
     "text": [
      "avg: nan\n",
      "min: nan\n",
      "max: nan\n"
     ]
    }
   ],
   "source": [
    "df_loss = df.loc[y_test[(y_test!=predicted) & (predicted==1)].index]\n",
    "print('avg: {}'.format((df_loss['close_t+120'] - df_loss['close']).mean()))\n",
    "print('min: {}'.format((df_loss['close_t+120'] - df_loss['close']).min()))\n",
    "print('max: {}'.format((df_loss['close_t+120'] - df_loss['close']).max()))\n"
   ]
  },
  {
   "cell_type": "markdown",
   "id": "blank-hamilton",
   "metadata": {},
   "source": [
    "### - Grid Search 너무 느림"
   ]
  },
  {
   "cell_type": "code",
   "execution_count": 20,
   "id": "informed-underground",
   "metadata": {},
   "outputs": [],
   "source": [
    "from sklearn.ensemble import RandomForestClassifier\n",
    "from sklearn.preprocessing import LabelBinarizer\n",
    "from sklearn.model_selection import train_test_split, GridSearchCV, StratifiedKFold\n",
    "from sklearn.metrics import roc_curve, precision_recall_curve, auc, make_scorer, recall_score, accuracy_score, precision_score, confusion_matrix\n",
    "\n",
    "\n",
    "clf = RandomForestClassifier(n_jobs=-1)\n",
    "\n",
    "param_grid = {\n",
    "    'min_samples_split': [3, 5, 10], \n",
    "    'n_estimators' : [100, 300],\n",
    "    'max_depth': [3, 5, 15, 25],\n",
    "    'max_features': [3, 5, 10, 20]\n",
    "}\n",
    "\n",
    "scorers = {\n",
    "    'precision_score': make_scorer(precision_score),\n",
    "    'recall_score': make_scorer(recall_score),\n",
    "    'accuracy_score': make_scorer(accuracy_score)\n",
    "}"
   ]
  },
  {
   "cell_type": "code",
   "execution_count": 55,
   "id": "imposed-relationship",
   "metadata": {},
   "outputs": [],
   "source": [
    "def grid_search_wrapper(refit_score='precision_score'):\n",
    "    \"\"\"\n",
    "    fits a GridSearchCV classifier using refit_score for optimization\n",
    "    prints classifier performance metrics\n",
    "    \"\"\"\n",
    "    skf = StratifiedKFold(n_splits=10)\n",
    "    grid_search = GridSearchCV(clf, param_grid, scoring=scorers, refit=refit_score,\n",
    "                           cv=skf, return_train_score=True, n_jobs=-1)\n",
    "    grid_search.fit(X_train.values, y_train.values)\n",
    "\n",
    "    # make the predictions\n",
    "    y_pred = grid_search.predict(X_test.values)\n",
    "\n",
    "    print('Best params for {}'.format(refit_score))\n",
    "    print(grid_search.best_params_)\n",
    "\n",
    "    # confusion matrix on the test data.\n",
    "    print('\\nConfusion matrix of Random Forest optimized for {} on the test data:'.format(refit_score))\n",
    "    print(pd.DataFrame(confusion_matrix(y_test, y_pred),\n",
    "                 columns=['pred_neg', 'pred_pos'], index=['neg', 'pos']))\n",
    "    return grid_search"
   ]
  },
  {
   "cell_type": "code",
   "execution_count": null,
   "id": "existing-fountain",
   "metadata": {},
   "outputs": [],
   "source": [
    "grid_search_clf = grid_search_wrapper(refit_score='precision_score')"
   ]
  },
  {
   "cell_type": "code",
   "execution_count": null,
   "id": "charitable-standing",
   "metadata": {},
   "outputs": [],
   "source": [
    "results = pd.DataFrame(grid_search_clf.cv_results_)\n",
    "results = results.sort_values(by='mean_test_precision_score', ascending=False)\n",
    "results[['mean_test_precision_score', 'mean_test_recall_score', 'mean_test_accuracy_score', 'param_max_depth', 'param_max_features', 'param_min_samples_split', 'param_n_estimators']].round(3).head()\n"
   ]
  }
 ],
 "metadata": {
  "kernelspec": {
   "display_name": "Python 3",
   "language": "python",
   "name": "python3"
  },
  "language_info": {
   "codemirror_mode": {
    "name": "ipython",
    "version": 3
   },
   "file_extension": ".py",
   "mimetype": "text/x-python",
   "name": "python",
   "nbconvert_exporter": "python",
   "pygments_lexer": "ipython3",
   "version": "3.9.1"
  }
 },
 "nbformat": 4,
 "nbformat_minor": 5
}
