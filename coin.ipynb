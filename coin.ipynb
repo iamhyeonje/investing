{
 "cells": [
  {
   "cell_type": "code",
   "execution_count": 1,
   "id": "spectacular-princess",
   "metadata": {},
   "outputs": [
    {
     "name": "stderr",
     "output_type": "stream",
     "text": [
      "/Users/hyunsuk/.pyenv/versions/3.9.1/envs/ds/lib/python3.9/site-packages/pandas/compat/__init__.py:109: UserWarning: Could not import the lzma module. Your installed Python is incomplete. Attempting to use lzma compression will result in a RuntimeError.\n",
      "  warnings.warn(msg)\n"
     ]
    }
   ],
   "source": [
    "import pandas as pd\n",
    "import matplotlib.pyplot as plt\n",
    "import seaborn as sns\n",
    "import psycopg2\n",
    "\n",
    "from sklearn.metrics import accuracy_score, precision_score, confusion_matrix, f1_score, plot_confusion_matrix\n",
    "from sklearn.ensemble import RandomForestClassifier\n",
    "from sklearn.model_selection import train_test_split"
   ]
  },
  {
   "cell_type": "markdown",
   "id": "specific-purple",
   "metadata": {},
   "source": [
    "<div class=\"alert alert-success\">\n",
    "    <h3>1-1. Data (SQL)</h3>\n",
    "</div>"
   ]
  },
  {
   "cell_type": "code",
   "execution_count": 2,
   "id": "appointed-athens",
   "metadata": {},
   "outputs": [],
   "source": [
    "connection = psycopg2.connect(host='localhost', dbname='coin', user='hyunsuk', password='fun309', port=5432)\n",
    "cursor = connection.cursor()\n",
    "\n",
    "sql = \"\"\"\n",
    "    SELECT *\n",
    "    FROM candles\n",
    "    WHERE datetime >= '2021-12-01 00:00:00'\n",
    "\"\"\"\n",
    "cursor.execute(sql)\n",
    "df = pd.DataFrame(cursor.fetchall(), columns = ['market', 'datetime', 'open', 'high', 'low', 'close', 'volume', 'value'])\n",
    "df.set_index('datetime', inplace=True)\n",
    "df.sort_index(ascending=True)\n",
    "df.to_csv('data.csv')"
   ]
  },
  {
   "cell_type": "markdown",
   "id": "liked-caution",
   "metadata": {},
   "source": [
    "<div class=\"alert alert-success\">\n",
    "    <h3>1-2. Data (File)</h3>\n",
    "</div>"
   ]
  },
  {
   "cell_type": "code",
   "execution_count": 2,
   "id": "dying-first",
   "metadata": {},
   "outputs": [],
   "source": [
    "df = pd.read_csv('./data.csv', header=0)\n",
    "df.set_index('datetime', inplace=True)\n",
    "df.sort_index(ascending=True, inplace=True)"
   ]
  },
  {
   "cell_type": "markdown",
   "id": "continuing-belarus",
   "metadata": {},
   "source": [
    "<div class=\"alert alert-success\">\n",
    "    <h3>2. 기술적 지표 (Feature Engineering)</h3>\n",
    "</div>"
   ]
  },
  {
   "cell_type": "code",
   "execution_count": 3,
   "id": "controversial-affiliation",
   "metadata": {},
   "outputs": [],
   "source": [
    "def get_stochastic_fast_k(close_price, low, high, n=5):\n",
    "    fast_k = ((close_price - low.rolling(n).min()) / (high.rolling(n).max() - low.rolling(n).min())) * 100\n",
    "    return fast_k\n",
    "\n",
    "# Slow %K = Fast %K의 m기간 이동평균(SMA)\n",
    "def get_stochastic_slow_k(fast_k, n=3):\n",
    "    slow_k = fast_k.rolling(n).mean()\n",
    "    return slow_k\n",
    "\n",
    "# Slow %D = Slow %K의 t기간 이동평균(SMA)\n",
    "def get_stochastic_slow_d(slow_k, n=3):\n",
    "    slow_d = slow_k.rolling(n).mean()\n",
    "    return slow_d\n",
    "\n",
    "def get_macd(price, slow, fast, smooth):\n",
    "    exp1 = price.ewm(span = fast, adjust = False).mean()\n",
    "    exp2 = price.ewm(span = slow, adjust = False).mean()\n",
    "    macd = pd.DataFrame(exp1 - exp2).rename(columns = {'close':'macd'})\n",
    "    signal = pd.DataFrame(macd.ewm(span = smooth, adjust = False).mean()).rename(columns = {'macd':'signal'})\n",
    "    hist = pd.DataFrame(macd['macd'] - signal['signal']).rename(columns = {0:'hist'})\n",
    "    frames =  [macd, signal, hist]\n",
    "    df = pd.concat(frames, join = 'inner', axis = 1)\n",
    "    return df\n",
    "\n",
    "def get_rsi(price, period=14):\n",
    "    delta = price.diff()\n",
    "    gains, declines = delta.copy(), delta.copy()\n",
    "    gains[gains < 0] = 0\n",
    "    declines[declines > 0] = 0\n",
    "    \n",
    "    _gain = gains.ewm(com=(period-1), min_periods=period).mean()\n",
    "    _loss = declines.abs().ewm(com=(period-1), min_periods=period).mean()\n",
    "    RS = _gain / _loss\n",
    "    \n",
    "    return pd.Series(100 - (100/(1+RS)), name = 'RSI')\n",
    "\n",
    "\n",
    "## MA: 이동평균선\n",
    "df['MA5'] = df['close'].rolling(window=5).mean()\n",
    "df['MA20'] = df['close'].rolling(window=20).mean()\n",
    "df['MA60'] = df['close'].rolling(window=60).mean()\n",
    "df['MA120'] = df['close'].rolling(window=120).mean()\n",
    "df['MA200'] = df['close'].rolling(window=200).mean()\n",
    "\n",
    "\n",
    "## 볼린저 밴드\n",
    "df['stddev'] = df['close'].rolling(window=20).std() # 20일 이동표준편차\n",
    "df['upper'] = df['MA20'] + 2*df['stddev'] # 상단밴드\n",
    "df['lower'] = df['MA20'] - 2*df['stddev'] # 하단밴드\n",
    "df['upper-lower'] = df['upper']-df['lower']\n",
    "df['upper-close'] = df['upper']-df['close']\n",
    "df['close-lower'] = df['close']-df['lower']\n",
    "\n",
    "\n",
    "df['MA20-MA5'] = df['MA20'] - df['MA5']\n",
    "df['MA60-MA20'] = df['MA60'] - df['MA20']\n",
    "df['MA120-MA60'] = df['MA120'] - df['MA60']\n",
    "df['MA200-MA120'] = df['MA200'] - df['MA120']\n",
    "\n",
    "\n",
    "#OBV 계산\n",
    "OBV = []\n",
    "OBV.append(0)\n",
    "\n",
    "for i in range(1, len(df.close)):\n",
    "    if df.close[i] > df.close[i-1]:\n",
    "        OBV.append(OBV[-1]+df.volume[i])\n",
    "    elif df.close[i] < df.close[i-1]:\n",
    "        OBV.append(OBV[-1]-df.volume[i])\n",
    "    else:\n",
    "        OBV.append(OBV[-1])\n",
    "\n",
    "df['OBV']=OBV\n",
    "df['OBV_EMA']=df['OBV'].ewm(com=20).mean()\n",
    "df['OBV-EMA']=df['OBV']-df['OBV_EMA']\n",
    "        \n",
    "            \n",
    "## VA: 평균 거래량 (120일기준)\n",
    "# df['VA5'] = df['volume'].rolling(window=5).mean()\n",
    "# df['VA20'] = df['volume'].rolling(window=20).mean()\n",
    "# df['VA60'] = df['volume'].rolling(window=60).mean()\n",
    "# df['VA120'] = df['volume'].rolling(window=120).mean()\n",
    "# df['VA120'] = df['volume'].rolling(window=120).mean()\n",
    "# df['V/VA120'] = df['volume']/df['VA120']\n",
    "\n",
    "\n",
    "## VALUE: 평균 거래금액 (120일기준)\n",
    "# df['VAL5'] = df['value'].rolling(window=5).mean()\n",
    "# df['VAL20'] = df['value'].rolling(window=20).mean()\n",
    "# df['VAL60'] = df['value'].rolling(window=60).mean()\n",
    "# df['VAL120'] = df['value'].rolling(window=120).mean()\n",
    "# df['VAL200'] = df['value'].rolling(window=200).mean()\n",
    "\n",
    "df['VAL5'] = df['value'].ewm(com=5).mean()\n",
    "df['VAL20'] = df['value'].ewm(com=20).mean()\n",
    "df['VAL60'] = df['value'].ewm(com=60).mean()\n",
    "df['VAL120'] = df['value'].ewm(com=120).mean()\n",
    "df['VAL200'] = df['value'].ewm(com=200).mean()\n",
    "\n",
    "\n",
    "# MACD\n",
    "macd_short, macd_long, macd_signal=12,26,9 #기본값\n",
    "df[\"MACD_short\"]=df['close'].ewm(span=macd_short).mean()\n",
    "df[\"MACD_long\"]=df['close'].ewm(span=macd_long).mean()\n",
    "df[\"MACD\"]=df.apply(lambda x: (x[\"MACD_short\"]-x[\"MACD_long\"]), axis=1)\n",
    "df[\"MACD_signal\"]=df[\"MACD\"].ewm(span=macd_signal).mean()  \n",
    "df[\"MACD_oscillator\"]=df.apply(lambda x:(x[\"MACD\"]-x[\"MACD_signal\"]), axis=1)\n",
    "df[\"MACD_sign\"]=df.apply(lambda x: (\"매수\" if x[\"MACD\"]>x[\"MACD_signal\"] else \"매도\"), axis=1)\n",
    "\n",
    "\n",
    "# fast_k, slow_k, slow_d를 획득\n",
    "df['fast_k5'] = get_stochastic_fast_k(df['close'], df['low'], df['high'], 5)\n",
    "df['slow_k3'] = get_stochastic_slow_k(df['fast_k5'], 3)\n",
    "df['slow_d3'] = get_stochastic_slow_d(df['slow_k3'], 3)\n",
    "\n",
    "df['fast_k10'] = get_stochastic_fast_k(df['close'], df['low'], df['high'], 10)\n",
    "df['slow_k6'] = get_stochastic_slow_k(df['fast_k10'], 6)\n",
    "df['slow_d6'] = get_stochastic_slow_d(df['slow_k6'], 6)\n",
    "\n",
    "df['fast_k20'] = get_stochastic_fast_k(df['close'], df['low'], df['high'], 20)\n",
    "df['slow_k12'] = get_stochastic_slow_k(df['fast_k20'], 12)\n",
    "df['slow_d12'] = get_stochastic_slow_d(df['slow_k12'], 12)\n",
    "\n",
    "\n",
    "# RSI\n",
    "df['rsi'] = get_rsi(df['close'])"
   ]
  },
  {
   "cell_type": "code",
   "execution_count": 4,
   "id": "native-mercy",
   "metadata": {},
   "outputs": [
    {
     "data": {
      "text/plain": [
       "Index(['market', 'open', 'high', 'low', 'close', 'volume', 'value', 'MA5',\n",
       "       'MA20', 'MA60', 'MA120', 'MA200', 'stddev', 'upper', 'lower',\n",
       "       'upper-lower', 'upper-close', 'close-lower', 'MA20-MA5', 'MA60-MA20',\n",
       "       'MA120-MA60', 'MA200-MA120', 'OBV', 'OBV_EMA', 'OBV-EMA', 'VAL5',\n",
       "       'VAL20', 'VAL60', 'VAL120', 'VAL200', 'MACD_short', 'MACD_long', 'MACD',\n",
       "       'MACD_signal', 'MACD_oscillator', 'MACD_sign', 'fast_k5', 'slow_k3',\n",
       "       'slow_d3', 'fast_k10', 'slow_k6', 'slow_d6', 'fast_k20', 'slow_k12',\n",
       "       'slow_d12', 'rsi'],\n",
       "      dtype='object')"
      ]
     },
     "execution_count": 4,
     "metadata": {},
     "output_type": "execute_result"
    }
   ],
   "source": [
    "df.columns"
   ]
  },
  {
   "cell_type": "markdown",
   "id": "promotional-arctic",
   "metadata": {},
   "source": [
    "<div class=\"alert alert-success\">\n",
    "    <h3>3-1. Independent Variable 설정</h3>\n",
    "</div>"
   ]
  },
  {
   "cell_type": "code",
   "execution_count": 6,
   "id": "protective-curtis",
   "metadata": {},
   "outputs": [],
   "source": [
    "#t-1의 값을 Feature로 사용하기 위함\n",
    "features = [\n",
    "    'close', 'open', 'high', 'low', 'volume', 'MA5', 'MA20', 'MA60', 'MA120', 'MA200',\n",
    "    'MA200-MA120', 'MA120-MA60', 'MA60-MA20', 'MA20-MA5', \n",
    "    'OBV-EMA',\n",
    "    'VAL5', 'VAL20', 'VAL60', 'VAL120', 'VAL200',\n",
    "    'MACD', 'MACD_oscillator', \n",
    "    'MACD_signal', 'fast_k5', 'slow_k3', 'slow_d3', 'fast_k10', 'slow_k6', 'slow_d6', \n",
    "    'fast_k20', 'slow_k12', 'slow_d12', 'rsi', 'upper-close', 'close-lower', 'stddev', 'upper-lower'\n",
    "]\n",
    "\n",
    "for feature in features:\n",
    "    df[feature+'-1']=df[feature].shift(1)\n",
    "    \n",
    "\n",
    "#사용 Feature\n",
    "selected_features = [\n",
    "#     'volume-1', \n",
    "    'OBV-EMA-1',\n",
    "    'VAL5-1', 'VAL20-1', 'VAL60-1', 'VAL120-1', 'VAL200-1',\n",
    "    'MA20-MA5-1', 'MA60-MA20-1', 'MA120-MA60-1', 'MA200-MA120-1',\n",
    "    'MACD-1', 'MACD_oscillator-1', 'MACD_signal-1', 'slow_k3-1', 'slow_d3-1', 'slow_k6-1', 'slow_d6-1', \n",
    "    'slow_k12-1', 'slow_d12-1', 'rsi-1', 'stddev-1', 'upper-lower-1', 'upper-close-1', 'close-lower-1'\n",
    "]\n",
    "\n",
    "X = df[selected_features].copy()\n",
    "X.dropna(inplace=True)"
   ]
  },
  {
   "cell_type": "code",
   "execution_count": 7,
   "id": "settled-murray",
   "metadata": {},
   "outputs": [
    {
     "name": "stdout",
     "output_type": "stream",
     "text": [
      "2021-12-01 03:20:00\n"
     ]
    }
   ],
   "source": [
    "print(X.index.strftime('%Y-%m-%d %H:%M:%S')[0])"
   ]
  },
  {
   "cell_type": "code",
   "execution_count": 8,
   "id": "mineral-license",
   "metadata": {},
   "outputs": [
    {
     "data": {
      "text/plain": [
       "Index(['OBV-EMA-1', 'VAL5-1', 'VAL20-1', 'VAL60-1', 'VAL120-1', 'VAL200-1',\n",
       "       'MA20-MA5-1', 'MA60-MA20-1', 'MA120-MA60-1', 'MA200-MA120-1', 'MACD-1',\n",
       "       'MACD_oscillator-1', 'MACD_signal-1', 'slow_k3-1', 'slow_d3-1',\n",
       "       'slow_k6-1', 'slow_d6-1', 'slow_k12-1', 'slow_d12-1', 'rsi-1',\n",
       "       'stddev-1', 'upper-lower-1', 'upper-close-1', 'close-lower-1'],\n",
       "      dtype='object')"
      ]
     },
     "execution_count": 8,
     "metadata": {},
     "output_type": "execute_result"
    }
   ],
   "source": [
    "X.columns"
   ]
  },
  {
   "cell_type": "markdown",
   "id": "simplified-payday",
   "metadata": {},
   "source": [
    "<div class=\"alert alert-success\">\n",
    "    <h3>3-2. Dependent Variable 설정</h3>\n",
    "</div>"
   ]
  },
  {
   "cell_type": "code",
   "execution_count": 9,
   "id": "flying-objective",
   "metadata": {},
   "outputs": [],
   "source": [
    "target_th = 0.02 # target earning rate per trade\n",
    "fee = 0.0005 # trade fee\n",
    "max_window = 120 # minutes"
   ]
  },
  {
   "cell_type": "code",
   "execution_count": 10,
   "id": "proper-edgar",
   "metadata": {},
   "outputs": [],
   "source": [
    "# Option 1 - Hit the target in window\n",
    "y1 = df[[\"close\"]].copy()\n",
    "y1[\"close_t+20\"] = y1[\"close\"].shift(-20)\n",
    "y1[\"close_t+60\"] = y1[\"close\"].shift(-60)\n",
    "y1[\"close_t+120\"] = y1[\"close\"].shift(-120)\n",
    "\n",
    "y1['earn+20'] = ((1 + target_th) * y1['close'] < y1['close_t+20']).astype(int)\n",
    "y1['earn+60'] = ((1 + target_th) * y1['close'] < y1['close_t+60']).astype(int)\n",
    "y1['earn+120'] = ((1 + target_th) * y1['close'] < y1['close_t+120']).astype(int)\n",
    "\n",
    "y1[\"target\"] = y1[\"earn+120\"]\n",
    "y1.dropna(inplace=True)"
   ]
  },
  {
   "cell_type": "code",
   "execution_count": 11,
   "id": "historical-commerce",
   "metadata": {},
   "outputs": [],
   "source": [
    "# Option2 - Hit the target in max_window (=120)\n",
    "y2 = df[[\"close\"]].copy()\n",
    "y2.sort_index(inplace=True, ascending=False)\n",
    "y2[\"max_in_wind\"] = y2.rolling(max_window, closed=\"left\").max()\n",
    "y2[\"max_earn_in_wind\"] = y2[\"max_in_wind\"] / y2[\"close\"] - 1\n",
    "y2[\"target\"] = (y2[\"max_earn_in_wind\"] >= target_th).astype(int)\n",
    "y2.sort_index(inplace=True)\n",
    "y2[\"close_t+{}\".format(max_window)] = y2[\"close\"].shift(-max_window)\n",
    "\n",
    "# target 수익률을 넘어서는 시간 추가\n",
    "def idxmax(s, w):\n",
    "    i = 0\n",
    "    while i + w < len(s):\n",
    "        yield(s.iloc[i:i+w].idxmax())\n",
    "        i += 1\n",
    "\n",
    "y2['idxmax'] = pd.Series(idxmax(y2['close'], max_window), y2.index[:-max_window])\n",
    "y2.dropna(inplace=True)"
   ]
  },
  {
   "cell_type": "code",
   "execution_count": 12,
   "id": "local-cocktail",
   "metadata": {},
   "outputs": [],
   "source": [
    "# Option3 - Multi Classification \n",
    "y3 = df[[\"close\"]].copy()\n",
    "\n",
    "class_unit = 10 #minutes\n",
    "for t in range(class_unit, max_window + class_unit, class_unit):\n",
    "    y3[\"close_t+{}\".format(t)] = y3[\"close\"].shift(-t)\n",
    "    y3[\"earn+{}\".format(t)] = ((y3[\"close_t+{}\".format(t)] / y3[\"close\"] - 1) > target_th).astype(int)\n",
    "\n",
    "selected_columns = [\"earn+{}\".format(t) for t in range(class_unit, max_window+class_unit, class_unit)]\n",
    "target = y3[selected_columns].values.argmax(axis=1) + 1\n",
    "target[y3[selected_columns].values.sum(axis=1) == 0] = 0\n",
    "y3[\"target\"] = target\n",
    "y3.dropna(inplace=True)\n"
   ]
  },
  {
   "cell_type": "markdown",
   "id": "auburn-hardware",
   "metadata": {},
   "source": [
    "<div class=\"alert alert-success\">\n",
    "    <h3>4. Train Model</h3>\n",
    "</div>"
   ]
  },
  {
   "cell_type": "code",
   "execution_count": 13,
   "id": "greenhouse-mixer",
   "metadata": {},
   "outputs": [],
   "source": [
    "#t-1의 값을 Feature로 사용하기 위함\n",
    "data1 = X.join(y1[['target']], how='inner')\n",
    "data2 = X.join(y2[['target']], how='inner')\n",
    "data3 = X.join(y3[['target']], how='inner')"
   ]
  },
  {
   "cell_type": "code",
   "execution_count": 14,
   "id": "ranging-cartoon",
   "metadata": {},
   "outputs": [
    {
     "data": {
      "text/plain": [
       "<AxesSubplot:xlabel='datetime'>"
      ]
     },
     "execution_count": 14,
     "metadata": {},
     "output_type": "execute_result"
    },
    {
     "data": {
      "image/png": "[encoded data removed]",
      "text/plain": [
       "<Figure size 1800x216 with 1 Axes>"
      ]
     },
     "metadata": {
      "needs_background": "light"
     },
     "output_type": "display_data"
    }
   ],
   "source": [
    "data1[\"target\"].plot(figsize=(25, 3))"
   ]
  },
  {
   "cell_type": "code",
   "execution_count": 16,
   "id": "dramatic-fleet",
   "metadata": {},
   "outputs": [
    {
     "name": "stdout",
     "output_type": "stream",
     "text": [
      "Total: 40312, Up: 2464\n"
     ]
    },
    {
     "data": {
      "text/plain": [
       "<AxesSubplot:xlabel='datetime'>"
      ]
     },
     "execution_count": 16,
     "metadata": {},
     "output_type": "execute_result"
    },
    {
     "data": {
      "image/png": "[encoded data removed]",
      "text/plain": [
       "<Figure size 1800x216 with 1 Axes>"
      ]
     },
     "metadata": {
      "needs_background": "light"
     },
     "output_type": "display_data"
    }
   ],
   "source": [
    "print('Total: {}, Up: {}'.format(len(data2), len(data2[data2['target']==1])))\n",
    "data2[\"target\"].plot(figsize=(25, 3))"
   ]
  },
  {
   "cell_type": "code",
   "execution_count": 17,
   "id": "composite-ecuador",
   "metadata": {},
   "outputs": [
    {
     "data": {
      "text/plain": [
       "<AxesSubplot:xlabel='datetime'>"
      ]
     },
     "execution_count": 17,
     "metadata": {},
     "output_type": "execute_result"
    },
    {
     "data": {
      "image/png": "[encoded data removed]",
      "text/plain": [
       "<Figure size 1800x216 with 1 Axes>"
      ]
     },
     "metadata": {
      "needs_background": "light"
     },
     "output_type": "display_data"
    }
   ],
   "source": [
    "data3[\"target\"].plot(figsize=(25, 3))"
   ]
  },
  {
   "cell_type": "markdown",
   "id": "proof-factory",
   "metadata": {},
   "source": [
    "<div class=\"alert alert-warning\">\n",
    "    <h3>Option 1 (Fixed time)</h3>\n",
    "</div>"
   ]
  },
  {
   "cell_type": "code",
   "execution_count": 18,
   "id": "visible-psychiatry",
   "metadata": {},
   "outputs": [],
   "source": [
    "from sklearn.model_selection import train_test_split\n",
    "\n",
    "X_train, X_test, y_train, y_test = train_test_split(data1[selected_features], data1['target'], test_size=0.25, random_state=123456)"
   ]
  },
  {
   "cell_type": "code",
   "execution_count": 19,
   "id": "civilian-realtor",
   "metadata": {},
   "outputs": [
    {
     "data": {
      "text/plain": [
       "24"
      ]
     },
     "execution_count": 19,
     "metadata": {},
     "output_type": "execute_result"
    }
   ],
   "source": [
    "len(X_test.columns)"
   ]
  },
  {
   "cell_type": "code",
   "execution_count": 20,
   "id": "diverse-saturday",
   "metadata": {},
   "outputs": [
    {
     "name": "stderr",
     "output_type": "stream",
     "text": [
      "<ipython-input-20-72abd9c9cfd4>:5: FutureWarning: Value based partial slicing on non-monotonic DatetimeIndexes with non-existing keys is deprecated and will raise a KeyError in a future Version.\n",
      "  data1_train = data1[start_date:split_date]\n",
      "<ipython-input-20-72abd9c9cfd4>:7: FutureWarning: Value based partial slicing on non-monotonic DatetimeIndexes with non-existing keys is deprecated and will raise a KeyError in a future Version.\n",
      "  data1_test = data1[split_date:]\n"
     ]
    }
   ],
   "source": [
    "#시간으로 샘플링\n",
    "start_date = \"2021-11-01 00:00:00\"\n",
    "split_date = \"2021-12-01 00:00:00\"\n",
    "\n",
    "data1_train = data1[start_date:split_date]\n",
    "data1_train = data1_train.sample(frac=1)\n",
    "data1_test = data1[split_date:]"
   ]
  },
  {
   "cell_type": "code",
   "execution_count": 21,
   "id": "editorial-console",
   "metadata": {},
   "outputs": [
    {
     "name": "stderr",
     "output_type": "stream",
     "text": [
      "/Users/hyunsuk/.pyenv/versions/3.9.1/envs/ds/lib/python3.9/site-packages/sklearn/base.py:445: UserWarning: X does not have valid feature names, but RandomForestClassifier was fitted with feature names\n",
      "  warnings.warn(\n"
     ]
    },
    {
     "data": {
      "text/plain": [
       "RandomForestClassifier(oob_score=True, random_state=123456)"
      ]
     },
     "execution_count": 21,
     "metadata": {},
     "output_type": "execute_result"
    }
   ],
   "source": [
    "rf1 = RandomForestClassifier(n_estimators=100, oob_score=True, random_state=123456)\n",
    "rf1.fit(X_train, y_train)"
   ]
  },
  {
   "cell_type": "code",
   "execution_count": 23,
   "id": "ecological-deployment",
   "metadata": {},
   "outputs": [
    {
     "name": "stdout",
     "output_type": "stream",
     "text": [
      "Out-of-bag score estimate: 0.988\n",
      "Mean accuracy score: 0.991\n"
     ]
    }
   ],
   "source": [
    "predicted = rf1.predict(X_test)\n",
    "accuracy = accuracy_score(y_test, predicted)\n",
    "\n",
    "print(f'Out-of-bag score estimate: {rf1.oob_score_:.3}')\n",
    "print(f'Mean accuracy score: {accuracy:.3}')"
   ]
  },
  {
   "cell_type": "code",
   "execution_count": 24,
   "id": "floral-communication",
   "metadata": {},
   "outputs": [
    {
     "name": "stdout",
     "output_type": "stream",
     "text": [
      "avg: 89750.0\n",
      "min: 85000.0\n",
      "max: 94000.0\n"
     ]
    }
   ],
   "source": [
    "loss1 = y2.loc[y_test[(y_test!=predicted) & (predicted==1)].index]\n",
    "print('avg: {}'.format((loss1['close_t+120'] - loss1['close']).mean()))\n",
    "print('min: {}'.format((loss1['close_t+120'] - loss1['close']).min()))\n",
    "print('max: {}'.format((loss1['close_t+120'] - loss1['close']).max()))"
   ]
  },
  {
   "cell_type": "code",
   "execution_count": 25,
   "id": "tutorial-encoding",
   "metadata": {},
   "outputs": [
    {
     "data": {
      "image/png": "[encoded data removed]",
      "text/plain": [
       "<Figure size 432x288 with 1 Axes>"
      ]
     },
     "metadata": {
      "needs_background": "light"
     },
     "output_type": "display_data"
    }
   ],
   "source": [
    "import numpy as np\n",
    "\n",
    "importances = rf1.feature_importances_\n",
    "std = np.std([tree.feature_importances_ for tree in rf1.estimators_], axis=0)\n",
    "\n",
    "forest_importances = pd.Series(importances, index=selected_features)\n",
    "\n",
    "fig, ax = plt.subplots()\n",
    "forest_importances.plot.bar(yerr=std, ax=ax)\n",
    "ax.set_title(\"Feature importances using MDI\")\n",
    "ax.set_ylabel(\"Mean decrease in impurity\")\n",
    "fig.tight_layout()"
   ]
  },
  {
   "cell_type": "markdown",
   "id": "fiscal-scanning",
   "metadata": {},
   "source": [
    "<div class=\"alert alert-warning\">\n",
    "    <h3>Option 2 (Hit the target within window)</h3>\n",
    "</div>"
   ]
  },
  {
   "cell_type": "code",
   "execution_count": 26,
   "id": "sorted-voice",
   "metadata": {},
   "outputs": [],
   "source": [
    "X_train, X_test, y_train, y_test = train_test_split(data2[selected_features], data2['target'], test_size=0.25, random_state=123456)"
   ]
  },
  {
   "cell_type": "code",
   "execution_count": 27,
   "id": "sustained-scratch",
   "metadata": {},
   "outputs": [
    {
     "name": "stderr",
     "output_type": "stream",
     "text": [
      "/Users/hyunsuk/.pyenv/versions/3.9.1/envs/ds/lib/python3.9/site-packages/sklearn/base.py:445: UserWarning: X does not have valid feature names, but RandomForestClassifier was fitted with feature names\n",
      "  warnings.warn(\n"
     ]
    },
    {
     "data": {
      "text/plain": [
       "RandomForestClassifier(oob_score=True, random_state=123456)"
      ]
     },
     "execution_count": 27,
     "metadata": {},
     "output_type": "execute_result"
    }
   ],
   "source": [
    "rf2 = RandomForestClassifier(n_estimators=100, oob_score=True, random_state=123456)\n",
    "rf2.fit(X_train, y_train)"
   ]
  },
  {
   "cell_type": "code",
   "execution_count": 28,
   "id": "tribal-blast",
   "metadata": {},
   "outputs": [
    {
     "name": "stdout",
     "output_type": "stream",
     "text": [
      "Out-of-bag score estimate: 0.978\n",
      "Mean accuracy score: 0.982\n"
     ]
    }
   ],
   "source": [
    "predicted = rf2.predict(X_test)\n",
    "accuracy = accuracy_score(y_test, predicted)\n",
    "\n",
    "print(f'Out-of-bag score estimate: {rf2.oob_score_:.3}')\n",
    "print(f'Mean accuracy score: {accuracy:.3}')"
   ]
  },
  {
   "cell_type": "code",
   "execution_count": 29,
   "id": "little-veteran",
   "metadata": {},
   "outputs": [
    {
     "data": {
      "text/html": [
       "<div>\n",
       "<style scoped>\n",
       "    .dataframe tbody tr th:only-of-type {\n",
       "        vertical-align: middle;\n",
       "    }\n",
       "\n",
       "    .dataframe tbody tr th {\n",
       "        vertical-align: top;\n",
       "    }\n",
       "\n",
       "    .dataframe thead th {\n",
       "        text-align: right;\n",
       "    }\n",
       "</style>\n",
       "<table border=\"1\" class=\"dataframe\">\n",
       "  <thead>\n",
       "    <tr style=\"text-align: right;\">\n",
       "      <th></th>\n",
       "      <th>close</th>\n",
       "      <th>max_in_wind</th>\n",
       "      <th>max_earn_in_wind</th>\n",
       "      <th>target</th>\n",
       "      <th>close_t+120</th>\n",
       "      <th>idxmax</th>\n",
       "    </tr>\n",
       "    <tr>\n",
       "      <th>datetime</th>\n",
       "      <th></th>\n",
       "      <th></th>\n",
       "      <th></th>\n",
       "      <th></th>\n",
       "      <th></th>\n",
       "      <th></th>\n",
       "    </tr>\n",
       "  </thead>\n",
       "  <tbody>\n",
       "    <tr>\n",
       "      <th>2021-12-01 00:00:00</th>\n",
       "      <td>5850000.0</td>\n",
       "      <td>5890000.0</td>\n",
       "      <td>0.006838</td>\n",
       "      <td>0</td>\n",
       "      <td>5689000.0</td>\n",
       "      <td>2021-12-01 00:16:00</td>\n",
       "    </tr>\n",
       "    <tr>\n",
       "      <th>2021-12-01 00:01:00</th>\n",
       "      <td>5838000.0</td>\n",
       "      <td>5890000.0</td>\n",
       "      <td>0.008907</td>\n",
       "      <td>0</td>\n",
       "      <td>5679000.0</td>\n",
       "      <td>2021-12-01 00:16:00</td>\n",
       "    </tr>\n",
       "    <tr>\n",
       "      <th>2021-12-01 00:02:00</th>\n",
       "      <td>5834000.0</td>\n",
       "      <td>5890000.0</td>\n",
       "      <td>0.009599</td>\n",
       "      <td>0</td>\n",
       "      <td>5696000.0</td>\n",
       "      <td>2021-12-01 00:16:00</td>\n",
       "    </tr>\n",
       "    <tr>\n",
       "      <th>2021-12-01 00:03:00</th>\n",
       "      <td>5825000.0</td>\n",
       "      <td>5890000.0</td>\n",
       "      <td>0.011159</td>\n",
       "      <td>0</td>\n",
       "      <td>5690000.0</td>\n",
       "      <td>2021-12-01 00:16:00</td>\n",
       "    </tr>\n",
       "    <tr>\n",
       "      <th>2021-12-01 00:04:00</th>\n",
       "      <td>5830000.0</td>\n",
       "      <td>5890000.0</td>\n",
       "      <td>0.010292</td>\n",
       "      <td>0</td>\n",
       "      <td>5681000.0</td>\n",
       "      <td>2021-12-01 00:16:00</td>\n",
       "    </tr>\n",
       "  </tbody>\n",
       "</table>\n",
       "</div>"
      ],
      "text/plain": [
       "                         close  max_in_wind  max_earn_in_wind  target  \\\n",
       "datetime                                                                \n",
       "2021-12-01 00:00:00  5850000.0    5890000.0          0.006838       0   \n",
       "2021-12-01 00:01:00  5838000.0    5890000.0          0.008907       0   \n",
       "2021-12-01 00:02:00  5834000.0    5890000.0          0.009599       0   \n",
       "2021-12-01 00:03:00  5825000.0    5890000.0          0.011159       0   \n",
       "2021-12-01 00:04:00  5830000.0    5890000.0          0.010292       0   \n",
       "\n",
       "                     close_t+120              idxmax  \n",
       "datetime                                              \n",
       "2021-12-01 00:00:00    5689000.0 2021-12-01 00:16:00  \n",
       "2021-12-01 00:01:00    5679000.0 2021-12-01 00:16:00  \n",
       "2021-12-01 00:02:00    5696000.0 2021-12-01 00:16:00  \n",
       "2021-12-01 00:03:00    5690000.0 2021-12-01 00:16:00  \n",
       "2021-12-01 00:04:00    5681000.0 2021-12-01 00:16:00  "
      ]
     },
     "execution_count": 29,
     "metadata": {},
     "output_type": "execute_result"
    }
   ],
   "source": [
    "y2.head()"
   ]
  },
  {
   "cell_type": "code",
   "execution_count": 30,
   "id": "loaded-taiwan",
   "metadata": {},
   "outputs": [
    {
     "name": "stdout",
     "output_type": "stream",
     "text": [
      "avg: 25111.11111111111\n",
      "min: -82000.0\n",
      "max: 98000.0\n"
     ]
    }
   ],
   "source": [
    "# 실패시 손실 계산\n",
    "loss2 = y2.loc[y_test[(y_test!=predicted) & (predicted==1)].index]\n",
    "print('avg: {}'.format((loss2['close_t+{}'.format(max_window)] - loss2['close']).mean()))\n",
    "print('min: {}'.format((loss2['close_t+{}'.format(max_window)] - loss2['close']).min()))\n",
    "print('max: {}'.format((loss2['close_t+{}'.format(max_window)] - loss2['close']).max()))"
   ]
  },
  {
   "cell_type": "code",
   "execution_count": 31,
   "id": "unavailable-fiction",
   "metadata": {},
   "outputs": [
    {
     "data": {
      "image/png": "[encoded data removed]",
      "text/plain": [
       "<Figure size 432x288 with 1 Axes>"
      ]
     },
     "metadata": {
      "needs_background": "light"
     },
     "output_type": "display_data"
    }
   ],
   "source": [
    "import numpy as np\n",
    "\n",
    "importances = rf2.feature_importances_\n",
    "std = np.std([tree.feature_importances_ for tree in rf2.estimators_], axis=0)\n",
    "\n",
    "forest_importances = pd.Series(importances, index=selected_features)\n",
    "\n",
    "fig, ax = plt.subplots()\n",
    "forest_importances.plot.bar(yerr=std, ax=ax)\n",
    "ax.set_title(\"Feature importances using MDI\")\n",
    "ax.set_ylabel(\"Mean decrease in impurity\")\n",
    "fig.tight_layout()"
   ]
  },
  {
   "cell_type": "markdown",
   "id": "circular-matrix",
   "metadata": {},
   "source": [
    "<div class=\"alert alert-warning\">\n",
    "    <h3>Option 2-2 (Hit the target within window)</h3>\n",
    "    <ul>\n",
    "        <li>상승 시작하는 시점부터 이익이 나는 동안은 지표가 비슷하게 나타날 수 있음</li>\n",
    "        <li>비슷한 데이터셋이 사용되면서 overfit 이슈가 생기지 않을까? </li>\n",
    "        <li>2% 이상의 결과가 나오는 처음 시점만 찾아서 진행 </li>\n",
    "    </ul>\n",
    "</div>"
   ]
  },
  {
   "cell_type": "code",
   "execution_count": 32,
   "id": "olympic-introduction",
   "metadata": {},
   "outputs": [],
   "source": [
    "data2['target-1']=data2.target.shift(1)"
   ]
  },
  {
   "cell_type": "code",
   "execution_count": 33,
   "id": "general-assist",
   "metadata": {},
   "outputs": [],
   "source": [
    "tmp = data2[(data2['target-1']!=data2['target']) & (data2['target']==1)]\n",
    "data4 = tmp.append(data2[data2['target']==0])"
   ]
  },
  {
   "cell_type": "code",
   "execution_count": 34,
   "id": "rotary-sperm",
   "metadata": {},
   "outputs": [
    {
     "name": "stdout",
     "output_type": "stream",
     "text": [
      "Mean ROC AUC: 0.743\n"
     ]
    }
   ],
   "source": [
    "from imblearn.ensemble import BalancedRandomForestClassifier\n",
    "from sklearn.model_selection import cross_val_score\n",
    "from sklearn.model_selection import RepeatedStratifiedKFold\n",
    "from numpy import mean\n",
    "\n",
    "# define model\n",
    "model = BalancedRandomForestClassifier(n_estimators=10)\n",
    "cv = RepeatedStratifiedKFold(n_splits=10, n_repeats=3, random_state=1)\n",
    "\n",
    "# evaluate model\n",
    "scores = cross_val_score(model, data4[selected_features], data4['target'], scoring='roc_auc', cv=cv, n_jobs=-1)\n",
    "# summarize performance\n",
    "print('Mean ROC AUC: %.3f' % mean(scores))"
   ]
  },
  {
   "cell_type": "code",
   "execution_count": 35,
   "id": "necessary-chosen",
   "metadata": {},
   "outputs": [
    {
     "name": "stderr",
     "output_type": "stream",
     "text": [
      "/Users/hyunsuk/.pyenv/versions/3.9.1/envs/ds/lib/python3.9/site-packages/sklearn/base.py:445: UserWarning: X does not have valid feature names, but RandomForestClassifier was fitted with feature names\n",
      "  warnings.warn(\n"
     ]
    },
    {
     "data": {
      "text/plain": [
       "RandomForestClassifier(oob_score=True, random_state=123456)"
      ]
     },
     "execution_count": 35,
     "metadata": {},
     "output_type": "execute_result"
    }
   ],
   "source": [
    "X_train, X_test, y_train, y_test = train_test_split(data4[selected_features], data4['target'], test_size=0.25, random_state=123456)\n",
    "\n",
    "rf4 = RandomForestClassifier(n_estimators=100, oob_score=True, random_state=123456)\n",
    "rf4.fit(X_train, y_train)"
   ]
  },
  {
   "cell_type": "code",
   "execution_count": 36,
   "id": "interim-tackle",
   "metadata": {},
   "outputs": [
    {
     "name": "stdout",
     "output_type": "stream",
     "text": [
      "Out-of-bag score estimate: 0.996\n",
      "Mean accuracy score: 0.995\n"
     ]
    }
   ],
   "source": [
    "predicted = rf4.predict(X_test)\n",
    "accuracy = accuracy_score(y_test, predicted)\n",
    "\n",
    "print(f'Out-of-bag score estimate: {rf4.oob_score_:.3}')\n",
    "print(f'Mean accuracy score: {accuracy:.3}')"
   ]
  },
  {
   "cell_type": "code",
   "execution_count": 38,
   "id": "transsexual-seminar",
   "metadata": {},
   "outputs": [
    {
     "data": {
      "image/png": "[encoded data removed]",
      "text/plain": [
       "<Figure size 432x288 with 1 Axes>"
      ]
     },
     "metadata": {
      "needs_background": "light"
     },
     "output_type": "display_data"
    }
   ],
   "source": [
    "import numpy as np\n",
    "\n",
    "importances = rf4.feature_importances_\n",
    "std = np.std([tree.feature_importances_ for tree in rf4.estimators_], axis=0)\n",
    "\n",
    "forest_importances = pd.Series(importances, index=selected_features)\n",
    "\n",
    "fig, ax = plt.subplots()\n",
    "forest_importances.plot.bar(yerr=std, ax=ax)\n",
    "ax.set_title(\"Feature importances using MDI\")\n",
    "ax.set_ylabel(\"Mean decrease in impurity\")\n",
    "fig.tight_layout()"
   ]
  },
  {
   "cell_type": "markdown",
   "id": "regular-winning",
   "metadata": {},
   "source": [
    "<div class=\"alert alert-danger\">\n",
    "    <h3>Target 1인 상황에서 MDD (Maximum Draw Down) 계산</h3>\n",
    "</div>"
   ]
  },
  {
   "cell_type": "code",
   "execution_count": 39,
   "id": "pleasant-attraction",
   "metadata": {},
   "outputs": [
    {
     "data": {
      "text/html": [
       "<div>\n",
       "<style scoped>\n",
       "    .dataframe tbody tr th:only-of-type {\n",
       "        vertical-align: middle;\n",
       "    }\n",
       "\n",
       "    .dataframe tbody tr th {\n",
       "        vertical-align: top;\n",
       "    }\n",
       "\n",
       "    .dataframe thead th {\n",
       "        text-align: right;\n",
       "    }\n",
       "</style>\n",
       "<table border=\"1\" class=\"dataframe\">\n",
       "  <thead>\n",
       "    <tr style=\"text-align: right;\">\n",
       "      <th></th>\n",
       "      <th>close</th>\n",
       "      <th>max_in_wind</th>\n",
       "      <th>max_earn_in_wind</th>\n",
       "      <th>target</th>\n",
       "      <th>close_t+120</th>\n",
       "      <th>idxmax</th>\n",
       "    </tr>\n",
       "    <tr>\n",
       "      <th>datetime</th>\n",
       "      <th></th>\n",
       "      <th></th>\n",
       "      <th></th>\n",
       "      <th></th>\n",
       "      <th></th>\n",
       "      <th></th>\n",
       "    </tr>\n",
       "  </thead>\n",
       "  <tbody>\n",
       "    <tr>\n",
       "      <th>2021-12-01 00:00:00</th>\n",
       "      <td>5850000.0</td>\n",
       "      <td>5890000.0</td>\n",
       "      <td>0.006838</td>\n",
       "      <td>0</td>\n",
       "      <td>5689000.0</td>\n",
       "      <td>2021-12-01 00:16:00</td>\n",
       "    </tr>\n",
       "    <tr>\n",
       "      <th>2021-12-01 00:01:00</th>\n",
       "      <td>5838000.0</td>\n",
       "      <td>5890000.0</td>\n",
       "      <td>0.008907</td>\n",
       "      <td>0</td>\n",
       "      <td>5679000.0</td>\n",
       "      <td>2021-12-01 00:16:00</td>\n",
       "    </tr>\n",
       "    <tr>\n",
       "      <th>2021-12-01 00:02:00</th>\n",
       "      <td>5834000.0</td>\n",
       "      <td>5890000.0</td>\n",
       "      <td>0.009599</td>\n",
       "      <td>0</td>\n",
       "      <td>5696000.0</td>\n",
       "      <td>2021-12-01 00:16:00</td>\n",
       "    </tr>\n",
       "    <tr>\n",
       "      <th>2021-12-01 00:03:00</th>\n",
       "      <td>5825000.0</td>\n",
       "      <td>5890000.0</td>\n",
       "      <td>0.011159</td>\n",
       "      <td>0</td>\n",
       "      <td>5690000.0</td>\n",
       "      <td>2021-12-01 00:16:00</td>\n",
       "    </tr>\n",
       "    <tr>\n",
       "      <th>2021-12-01 00:04:00</th>\n",
       "      <td>5830000.0</td>\n",
       "      <td>5890000.0</td>\n",
       "      <td>0.010292</td>\n",
       "      <td>0</td>\n",
       "      <td>5681000.0</td>\n",
       "      <td>2021-12-01 00:16:00</td>\n",
       "    </tr>\n",
       "  </tbody>\n",
       "</table>\n",
       "</div>"
      ],
      "text/plain": [
       "                         close  max_in_wind  max_earn_in_wind  target  \\\n",
       "datetime                                                                \n",
       "2021-12-01 00:00:00  5850000.0    5890000.0          0.006838       0   \n",
       "2021-12-01 00:01:00  5838000.0    5890000.0          0.008907       0   \n",
       "2021-12-01 00:02:00  5834000.0    5890000.0          0.009599       0   \n",
       "2021-12-01 00:03:00  5825000.0    5890000.0          0.011159       0   \n",
       "2021-12-01 00:04:00  5830000.0    5890000.0          0.010292       0   \n",
       "\n",
       "                     close_t+120              idxmax  \n",
       "datetime                                              \n",
       "2021-12-01 00:00:00    5689000.0 2021-12-01 00:16:00  \n",
       "2021-12-01 00:01:00    5679000.0 2021-12-01 00:16:00  \n",
       "2021-12-01 00:02:00    5696000.0 2021-12-01 00:16:00  \n",
       "2021-12-01 00:03:00    5690000.0 2021-12-01 00:16:00  \n",
       "2021-12-01 00:04:00    5681000.0 2021-12-01 00:16:00  "
      ]
     },
     "execution_count": 39,
     "metadata": {},
     "output_type": "execute_result"
    }
   ],
   "source": [
    "y2.head()"
   ]
  },
  {
   "cell_type": "code",
   "execution_count": 40,
   "id": "prescription-warren",
   "metadata": {},
   "outputs": [],
   "source": [
    "# target hit한 window내, 최대 낙폭 index와 금액 계산\n",
    "def mdd(y):\n",
    "    for idx, row in y.iterrows():\n",
    "        yield y[idx:row['idxmax']]['close'].idxmin(), y[idx:row['idxmax']]['close'].min() - row['close']\n",
    "\n",
    "MDD = pd.DataFrame(mdd(y2), index=y2.index, columns=['idxmin', 'mdd'])"
   ]
  },
  {
   "cell_type": "code",
   "execution_count": 41,
   "id": "smooth-badge",
   "metadata": {},
   "outputs": [],
   "source": [
    "y2_MDD = y2.join(MDD, how='inner')"
   ]
  },
  {
   "cell_type": "code",
   "execution_count": 42,
   "id": "hairy-beast",
   "metadata": {},
   "outputs": [
    {
     "data": {
      "text/html": [
       "<div>\n",
       "<style scoped>\n",
       "    .dataframe tbody tr th:only-of-type {\n",
       "        vertical-align: middle;\n",
       "    }\n",
       "\n",
       "    .dataframe tbody tr th {\n",
       "        vertical-align: top;\n",
       "    }\n",
       "\n",
       "    .dataframe thead th {\n",
       "        text-align: right;\n",
       "    }\n",
       "</style>\n",
       "<table border=\"1\" class=\"dataframe\">\n",
       "  <thead>\n",
       "    <tr style=\"text-align: right;\">\n",
       "      <th></th>\n",
       "      <th>close</th>\n",
       "      <th>max_in_wind</th>\n",
       "      <th>max_earn_in_wind</th>\n",
       "      <th>target</th>\n",
       "      <th>close_t+120</th>\n",
       "      <th>idxmax</th>\n",
       "      <th>idxmin</th>\n",
       "      <th>mdd</th>\n",
       "    </tr>\n",
       "    <tr>\n",
       "      <th>datetime</th>\n",
       "      <th></th>\n",
       "      <th></th>\n",
       "      <th></th>\n",
       "      <th></th>\n",
       "      <th></th>\n",
       "      <th></th>\n",
       "      <th></th>\n",
       "      <th></th>\n",
       "    </tr>\n",
       "  </thead>\n",
       "  <tbody>\n",
       "    <tr>\n",
       "      <th>2021-12-01 00:00:00</th>\n",
       "      <td>5850000.0</td>\n",
       "      <td>5890000.0</td>\n",
       "      <td>0.006838</td>\n",
       "      <td>0</td>\n",
       "      <td>5689000.0</td>\n",
       "      <td>2021-12-01 00:16:00</td>\n",
       "      <td>2021-12-01 00:03:00</td>\n",
       "      <td>-25000.0</td>\n",
       "    </tr>\n",
       "    <tr>\n",
       "      <th>2021-12-01 00:01:00</th>\n",
       "      <td>5838000.0</td>\n",
       "      <td>5890000.0</td>\n",
       "      <td>0.008907</td>\n",
       "      <td>0</td>\n",
       "      <td>5679000.0</td>\n",
       "      <td>2021-12-01 00:16:00</td>\n",
       "      <td>2021-12-01 00:03:00</td>\n",
       "      <td>-13000.0</td>\n",
       "    </tr>\n",
       "    <tr>\n",
       "      <th>2021-12-01 00:02:00</th>\n",
       "      <td>5834000.0</td>\n",
       "      <td>5890000.0</td>\n",
       "      <td>0.009599</td>\n",
       "      <td>0</td>\n",
       "      <td>5696000.0</td>\n",
       "      <td>2021-12-01 00:16:00</td>\n",
       "      <td>2021-12-01 00:03:00</td>\n",
       "      <td>-9000.0</td>\n",
       "    </tr>\n",
       "    <tr>\n",
       "      <th>2021-12-01 00:03:00</th>\n",
       "      <td>5825000.0</td>\n",
       "      <td>5890000.0</td>\n",
       "      <td>0.011159</td>\n",
       "      <td>0</td>\n",
       "      <td>5690000.0</td>\n",
       "      <td>2021-12-01 00:16:00</td>\n",
       "      <td>2021-12-01 00:03:00</td>\n",
       "      <td>0.0</td>\n",
       "    </tr>\n",
       "    <tr>\n",
       "      <th>2021-12-01 00:04:00</th>\n",
       "      <td>5830000.0</td>\n",
       "      <td>5890000.0</td>\n",
       "      <td>0.010292</td>\n",
       "      <td>0</td>\n",
       "      <td>5681000.0</td>\n",
       "      <td>2021-12-01 00:16:00</td>\n",
       "      <td>2021-12-01 00:05:00</td>\n",
       "      <td>-3000.0</td>\n",
       "    </tr>\n",
       "  </tbody>\n",
       "</table>\n",
       "</div>"
      ],
      "text/plain": [
       "                         close  max_in_wind  max_earn_in_wind  target  \\\n",
       "datetime                                                                \n",
       "2021-12-01 00:00:00  5850000.0    5890000.0          0.006838       0   \n",
       "2021-12-01 00:01:00  5838000.0    5890000.0          0.008907       0   \n",
       "2021-12-01 00:02:00  5834000.0    5890000.0          0.009599       0   \n",
       "2021-12-01 00:03:00  5825000.0    5890000.0          0.011159       0   \n",
       "2021-12-01 00:04:00  5830000.0    5890000.0          0.010292       0   \n",
       "\n",
       "                     close_t+120              idxmax              idxmin  \\\n",
       "datetime                                                                   \n",
       "2021-12-01 00:00:00    5689000.0 2021-12-01 00:16:00 2021-12-01 00:03:00   \n",
       "2021-12-01 00:01:00    5679000.0 2021-12-01 00:16:00 2021-12-01 00:03:00   \n",
       "2021-12-01 00:02:00    5696000.0 2021-12-01 00:16:00 2021-12-01 00:03:00   \n",
       "2021-12-01 00:03:00    5690000.0 2021-12-01 00:16:00 2021-12-01 00:03:00   \n",
       "2021-12-01 00:04:00    5681000.0 2021-12-01 00:16:00 2021-12-01 00:05:00   \n",
       "\n",
       "                         mdd  \n",
       "datetime                      \n",
       "2021-12-01 00:00:00 -25000.0  \n",
       "2021-12-01 00:01:00 -13000.0  \n",
       "2021-12-01 00:02:00  -9000.0  \n",
       "2021-12-01 00:03:00      0.0  \n",
       "2021-12-01 00:04:00  -3000.0  "
      ]
     },
     "execution_count": 42,
     "metadata": {},
     "output_type": "execute_result"
    }
   ],
   "source": [
    "y2_MDD.head()"
   ]
  },
  {
   "cell_type": "code",
   "execution_count": 43,
   "id": "bulgarian-method",
   "metadata": {},
   "outputs": [
    {
     "name": "stdout",
     "output_type": "stream",
     "text": [
      "Statistics=70714.779, p=0.000\n",
      "Sample does not look Gaussian (reject H0)\n"
     ]
    }
   ],
   "source": [
    "# 낙폭 정도 Normal Test\n",
    "from scipy.stats import normaltest\n",
    "\n",
    "stat, p = normaltest(y2_MDD['mdd'])\n",
    "print('Statistics=%.3f, p=%.3f' % (stat, p))\n",
    "\n",
    "# interpret\n",
    "alpha = 0.05\n",
    "if p > alpha:\n",
    "    print('Sample looks Gaussian (fail to reject H0)')\n",
    "else:\n",
    "    print('Sample does not look Gaussian (reject H0)')"
   ]
  },
  {
   "cell_type": "code",
   "execution_count": 44,
   "id": "regional-devon",
   "metadata": {},
   "outputs": [
    {
     "name": "stdout",
     "output_type": "stream",
     "text": [
      "Total size: 2491\n",
      "Worst MDD: -607000.0\n"
     ]
    },
    {
     "data": {
      "text/plain": [
       "<AxesSubplot:xlabel='datetime'>"
      ]
     },
     "execution_count": 44,
     "metadata": {},
     "output_type": "execute_result"
    },
    {
     "data": {
      "image/png": "[encoded data removed]",
      "text/plain": [
       "<Figure size 1800x360 with 1 Axes>"
      ]
     },
     "metadata": {
      "needs_background": "light"
     },
     "output_type": "display_data"
    }
   ],
   "source": [
    "y2_target1 = y2_MDD[y2_MDD['target']==1]\n",
    "print('Total size: {}'.format(len(y2_target1)))\n",
    "print('Worst MDD: {}'.format(y2_target1['mdd'].min()))\n",
    "y2_target1['mdd'].plot(figsize=(25,5))"
   ]
  },
  {
   "cell_type": "code",
   "execution_count": 45,
   "id": "systematic-ideal",
   "metadata": {},
   "outputs": [
    {
     "name": "stdout",
     "output_type": "stream",
     "text": [
      "손해 비율 (mean): -0.003373778869709378\n",
      "손해 비율 (std): 0.008709296609168974\n",
      "손해 비율 (min): -0.12120607028753994\n"
     ]
    },
    {
     "name": "stderr",
     "output_type": "stream",
     "text": [
      "<ipython-input-45-8de18fad554c>:1: SettingWithCopyWarning: \n",
      "A value is trying to be set on a copy of a slice from a DataFrame.\n",
      "Try using .loc[row_indexer,col_indexer] = value instead\n",
      "\n",
      "See the caveats in the documentation: https://pandas.pydata.org/pandas-docs/stable/user_guide/indexing.html#returning-a-view-versus-a-copy\n",
      "  y2_target1['mdd_ratio'] = y2_target1['mdd']/y2_target1['close']\n"
     ]
    }
   ],
   "source": [
    "y2_target1['mdd_ratio'] = y2_target1['mdd']/y2_target1['close']\n",
    "loss_mean = y2_target1['mdd_ratio'].mean()\n",
    "loss_std = y2_target1['mdd_ratio'].std()\n",
    "print('손해 비율 (mean): {}'.format(y2_target1['mdd_ratio'].mean()))\n",
    "print('손해 비율 (std): {}'.format(y2_target1['mdd_ratio'].std()))\n",
    "print('손해 비율 (min): {}'.format(y2_target1['mdd_ratio'].min()))"
   ]
  },
  {
   "cell_type": "code",
   "execution_count": 46,
   "id": "developed-christianity",
   "metadata": {},
   "outputs": [
    {
     "name": "stdout",
     "output_type": "stream",
     "text": [
      "손절라인 outlier mean - 3*std: -0.0295016686972163\n"
     ]
    }
   ],
   "source": [
    "print(f'손절라인 outlier mean - 3*std: {loss_mean-3*loss_std}')"
   ]
  },
  {
   "cell_type": "code",
   "execution_count": 47,
   "id": "million-appearance",
   "metadata": {},
   "outputs": [
    {
     "name": "stdout",
     "output_type": "stream",
     "text": [
      "Target 1 규모: 2491\n",
      "최대낙폭 target_th 이상: 46\n"
     ]
    }
   ],
   "source": [
    "# target threshold보다 더 많은 손해가 중간에 발생한 경우 \n",
    "\n",
    "print('Target 1 규모: {}'.format(len(y2_target1)))\n",
    "print('최대낙폭 target_th 이상: {}'.format(len(y2_target1[y2_target1['mdd_ratio']<=-target_th])))"
   ]
  },
  {
   "cell_type": "markdown",
   "id": "invalid-engagement",
   "metadata": {},
   "source": [
    "<div class=\"alert alert-info\">\n",
    "    <h4>%% 최대 낙폭을 줄이는 알고리즘을 추가하여 손실을 줄이는 방식으로</h4>\n",
    "</div>"
   ]
  },
  {
   "cell_type": "markdown",
   "id": "decimal-denmark",
   "metadata": {},
   "source": [
    "<div class=\"alert alert-warning\">\n",
    "    <h3>모델 Save</h3>\n",
    "</div>"
   ]
  },
  {
   "cell_type": "code",
   "execution_count": 38,
   "id": "other-ebony",
   "metadata": {},
   "outputs": [],
   "source": [
    "import pickle\n",
    "import joblib"
   ]
  },
  {
   "cell_type": "code",
   "execution_count": 143,
   "id": "fewer-andrews",
   "metadata": {},
   "outputs": [
    {
     "data": {
      "text/plain": [
       "['algo2.pkl']"
      ]
     },
     "execution_count": 143,
     "metadata": {},
     "output_type": "execute_result"
    }
   ],
   "source": [
    "joblib.dump(rf2, 'algo2.pkl') "
   ]
  },
  {
   "cell_type": "markdown",
   "id": "understood-farmer",
   "metadata": {},
   "source": [
    "<div class=\"alert alert-warning\">\n",
    "    <h3>XGBoost 활용</h3>\n",
    "</div>"
   ]
  },
  {
   "cell_type": "code",
   "execution_count": 180,
   "id": "retired-purchase",
   "metadata": {},
   "outputs": [
    {
     "data": {
      "text/plain": [
       "XGBRegressor(base_score=0.5, booster='gbtree', colsample_bylevel=1,\n",
       "             colsample_bynode=1, colsample_bytree=1, enable_categorical=False,\n",
       "             gamma=0, gpu_id=-1, importance_type=None,\n",
       "             interaction_constraints='', learning_rate=0.08, max_delta_step=0,\n",
       "             max_depth=7, min_child_weight=1, missing=nan,\n",
       "             monotone_constraints='()', n_estimators=100, n_jobs=4,\n",
       "             num_parallel_tree=1, predictor='auto', random_state=0, reg_alpha=0,\n",
       "             reg_lambda=1, scale_pos_weight=1, subsample=0.75,\n",
       "             tree_method='exact', validate_parameters=1, verbosity=None)"
      ]
     },
     "execution_count": 180,
     "metadata": {},
     "output_type": "execute_result"
    }
   ],
   "source": [
    "import xgboost\n",
    "\n",
    "xgb_model = xgboost.XGBRegressor(n_estimators=100, learning_rate=0.08, gamma=0, subsample=0.75,\n",
    "                           colsample_bytree=1, max_depth=7)\n",
    "xgb_model.fit(X_train, y_train)"
   ]
  },
  {
   "cell_type": "code",
   "execution_count": 182,
   "id": "foster-suspect",
   "metadata": {},
   "outputs": [
    {
     "data": {
      "text/plain": [
       "<AxesSubplot:title={'center':'Feature importance'}, xlabel='F score', ylabel='Features'>"
      ]
     },
     "execution_count": 182,
     "metadata": {},
     "output_type": "execute_result"
    },
    {
     "data": {
      "image/png": "[encoded data removed]",
      "text/plain": [
       "<Figure size 432x288 with 1 Axes>"
      ]
     },
     "metadata": {
      "needs_background": "light"
     },
     "output_type": "display_data"
    }
   ],
   "source": [
    "xgboost.plot_importance(xgb_model)"
   ]
  },
  {
   "cell_type": "code",
   "execution_count": 192,
   "id": "minute-wonder",
   "metadata": {},
   "outputs": [
    {
     "name": "stdout",
     "output_type": "stream",
     "text": [
      "Mean accuracy score: 0.956\n",
      "Precision socre: 0.95\n",
      "f1 socre: 0.241\n"
     ]
    }
   ],
   "source": [
    "predicted = xgb_model.predict(X_test)\n",
    "round_predicted = [round(value) for value in predicted]\n",
    "accuracy = accuracy_score(y_test, round_predicted)\n",
    "precision = precision_score(y_test, round_predicted, pos_label=1)\n",
    "f1_sco = f1_score(y_test, round_predicted, pos_label=1)\n",
    "\n",
    "                     \n",
    "print(f'Mean accuracy score: {accuracy:.3}')\n",
    "print(f'Precision socre: {precision:.3}')\n",
    "print(f'f1 socre: {f1_sco:.3}')"
   ]
  },
  {
   "cell_type": "code",
   "execution_count": 204,
   "id": "frank-water",
   "metadata": {},
   "outputs": [
    {
     "data": {
      "text/plain": [
       "array([[20380,     8],\n",
       "       [  944,   151]])"
      ]
     },
     "execution_count": 204,
     "metadata": {},
     "output_type": "execute_result"
    }
   ],
   "source": [
    "# plot_confusion_matrix(xgb_model, y_test, round_predicted)\n",
    "confusion_matrix(y_test, round_predicted)"
   ]
  },
  {
   "cell_type": "code",
   "execution_count": 186,
   "id": "upset-manual",
   "metadata": {},
   "outputs": [
    {
     "name": "stdout",
     "output_type": "stream",
     "text": [
      "avg: nan\n",
      "min: nan\n",
      "max: nan\n"
     ]
    }
   ],
   "source": [
    "# 실패시 손실 계산\n",
    "xgb_loss2 = y2.loc[y_test[(y_test!=round_predicted) & (round_predicted==1)].index]\n",
    "print('avg: {}'.format((xgb_loss2['close_t+{}'.format(max_window)] - xgb_loss2['close']).mean()))\n",
    "print('min: {}'.format((xgb_loss2['close_t+{}'.format(max_window)] - xgb_loss2['close']).min()))\n",
    "print('max: {}'.format((xgb_loss2['close_t+{}'.format(max_window)] - xgb_loss2['close']).max()))"
   ]
  },
  {
   "cell_type": "markdown",
   "id": "naval-fourth",
   "metadata": {},
   "source": [
    "### - Grid Search 너무 느림"
   ]
  },
  {
   "cell_type": "code",
   "execution_count": 20,
   "id": "stone-consent",
   "metadata": {},
   "outputs": [],
   "source": [
    "from sklearn.ensemble import RandomForestClassifier\n",
    "from sklearn.preprocessing import LabelBinarizer\n",
    "from sklearn.model_selection import train_test_split, GridSearchCV, StratifiedKFold\n",
    "from sklearn.metrics import roc_curve, precision_recall_curve, auc, make_scorer, recall_score, accuracy_score, precision_score, confusion_matrix\n",
    "\n",
    "\n",
    "clf = RandomForestClassifier(n_jobs=-1)\n",
    "\n",
    "param_grid = {\n",
    "    'min_samples_split': [3, 5, 10], \n",
    "    'n_estimators' : [100, 300],\n",
    "    'max_depth': [3, 5, 15, 25],\n",
    "    'max_features': [3, 5, 10, 20]\n",
    "}\n",
    "\n",
    "scorers = {\n",
    "    'precision_score': make_scorer(precision_score),\n",
    "    'recall_score': make_scorer(recall_score),\n",
    "    'accuracy_score': make_scorer(accuracy_score)\n",
    "}"
   ]
  },
  {
   "cell_type": "code",
   "execution_count": 55,
   "id": "beneficial-hartford",
   "metadata": {},
   "outputs": [],
   "source": [
    "def grid_search_wrapper(refit_score='precision_score'):\n",
    "    \"\"\"\n",
    "    fits a GridSearchCV classifier using refit_score for optimization\n",
    "    prints classifier performance metrics\n",
    "    \"\"\"\n",
    "    skf = StratifiedKFold(n_splits=10)\n",
    "    grid_search = GridSearchCV(clf, param_grid, scoring=scorers, refit=refit_score,\n",
    "                           cv=skf, return_train_score=True, n_jobs=-1)\n",
    "    grid_search.fit(X_train.values, y_train.values)\n",
    "\n",
    "    # make the predictions\n",
    "    y_pred = grid_search.predict(X_test.values)\n",
    "\n",
    "    print('Best params for {}'.format(refit_score))\n",
    "    print(grid_search.best_params_)\n",
    "\n",
    "    # confusion matrix on the test data.\n",
    "    print('\\nConfusion matrix of Random Forest optimized for {} on the test data:'.format(refit_score))\n",
    "    print(pd.DataFrame(confusion_matrix(y_test, y_pred),\n",
    "                 columns=['pred_neg', 'pred_pos'], index=['neg', 'pos']))\n",
    "    return grid_search"
   ]
  },
  {
   "cell_type": "code",
   "execution_count": null,
   "id": "comic-harvest",
   "metadata": {},
   "outputs": [],
   "source": [
    "grid_search_clf = grid_search_wrapper(refit_score='precision_score')"
   ]
  },
  {
   "cell_type": "code",
   "execution_count": null,
   "id": "comparative-cathedral",
   "metadata": {},
   "outputs": [],
   "source": [
    "results = pd.DataFrame(grid_search_clf.cv_results_)\n",
    "results = results.sort_values(by='mean_test_precision_score', ascending=False)\n",
    "results[['mean_test_precision_score', 'mean_test_recall_score', 'mean_test_accuracy_score', 'param_max_depth', 'param_max_features', 'param_min_samples_split', 'param_n_estimators']].round(3).head()\n"
   ]
  }
 ],
 "metadata": {
  "kernelspec": {
   "display_name": "Python 3",
   "language": "python",
   "name": "python3"
  },
  "language_info": {
   "codemirror_mode": {
    "name": "ipython",
    "version": 3
   },
   "file_extension": ".py",
   "mimetype": "text/x-python",
   "name": "python",
   "nbconvert_exporter": "python",
   "pygments_lexer": "ipython3",
   "version": "3.9.1"
  }
 },
 "nbformat": 4,
 "nbformat_minor": 5
}
