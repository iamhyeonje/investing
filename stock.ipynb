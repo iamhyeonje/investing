{
 "cells": [
  {
   "cell_type": "code",
   "execution_count": 66,
   "id": "unusual-nursing",
   "metadata": {},
   "outputs": [],
   "source": [
    "import FinanceDataReader as fdr\n",
    "\n",
    "# # 삼성전자(005930) 전체 (1996-11-05 ~ 현재)\n",
    "# df = fdr.DataReader('005930')\n",
    "\n",
    "# # Apple(AAPL), 2017-01-01 ~ Now\n",
    "# df = fdr.DataReader('AAPL', '2017')\n",
    "\n",
    "# # Ford(F), 1980-01-01 ~ 2019-12-30 (40년 데이터)\n",
    "# df = fdr.DataReader('F', '1980-01-01', '2019-12-30')\n",
    "\n",
    "# # AMAZON(AMZN), 2017 (1년)\n",
    "# df = fdr.DataReader('AMZN', '2017-01-01', '2019-12-31')\n",
    "\n",
    "# # Samsung(005930), 2000-01-01 ~ 2019-12-31\n",
    "# df = fdr.DataReader('068270', '2000-01-01', '2019-12-31')\n",
    "\n",
    "# # country code: ex) 000150: Doosan(KR), Yihua Healthcare(CN)\n",
    "# df = fdr.DataReader('000150', '2018-01-01', '2019-10-30') # KRX\n",
    "df = fdr.DataReader('KS11', '2010-01-01', '2021-11-26', exchange='KRX') # KRX (위와 동일)\n"
   ]
  },
  {
   "cell_type": "code",
   "execution_count": 67,
   "id": "innocent-panel",
   "metadata": {},
   "outputs": [],
   "source": [
    "import pandas as pd\n",
    "import matplotlib.pyplot as plt\n",
    "import seaborn as sns\n"
   ]
  },
  {
   "cell_type": "code",
   "execution_count": 226,
   "id": "sufficient-queens",
   "metadata": {},
   "outputs": [],
   "source": [
    "def get_stochastic_fast_k(close_price, low, high, n=5):\n",
    "    fast_k = ((close_price - low.rolling(n).min()) / (high.rolling(n).max() - low.rolling(n).min())) * 100\n",
    "    return fast_k\n",
    "\n",
    "# Slow %K = Fast %K의 m기간 이동평균(SMA)\n",
    "def get_stochastic_slow_k(fast_k, n=3):\n",
    "    slow_k = fast_k.rolling(n).mean()\n",
    "    return slow_k\n",
    "\n",
    "# Slow %D = Slow %K의 t기간 이동평균(SMA)\n",
    "def get_stochastic_slow_d(slow_k, n=3):\n",
    "    slow_d = slow_k.rolling(n).mean()\n",
    "    return slow_d\n",
    "\n",
    "def get_macd(price, slow, fast, smooth):\n",
    "    exp1 = price.ewm(span = fast, adjust = False).mean()\n",
    "    exp2 = price.ewm(span = slow, adjust = False).mean()\n",
    "    macd = pd.DataFrame(exp1 - exp2).rename(columns = {'close':'macd'})\n",
    "    signal = pd.DataFrame(macd.ewm(span = smooth, adjust = False).mean()).rename(columns = {'macd':'signal'})\n",
    "    hist = pd.DataFrame(macd['macd'] - signal['signal']).rename(columns = {0:'hist'})\n",
    "    frames =  [macd, signal, hist]\n",
    "    df = pd.concat(frames, join = 'inner', axis = 1)\n",
    "    return df\n",
    "\n",
    "def get_rsi(price, period=14):\n",
    "    delta = price.diff()\n",
    "    gains, declines = delta.copy(), delta.copy()\n",
    "    gains[gains < 0] = 0\n",
    "    declines[declines > 0] = 0\n",
    "    \n",
    "    _gain = gains.ewm(com=(period-1), min_periods=period).mean()\n",
    "    _loss = declines.abs().ewm(com=(period-1), min_periods=period).mean()\n",
    "    RS = _gain / _loss\n",
    "    \n",
    "    return pd.Series(100 - (100/(1+RS)), name = 'RSI')\n",
    "\n",
    "## MA: 이동평균선\n",
    "df['MA5'] = df['Close'].rolling(window=5).mean()\n",
    "df['MA20'] = df['Close'].rolling(window=20).mean()\n",
    "df['MA60'] = df['Close'].rolling(window=60).mean()\n",
    "# df['MA200'] = df['Close'].rolling(window=200).mean()\n",
    "\n",
    "df['stddev'] = df['Close'].rolling(window=20).std() # 20일 이동표준편차\n",
    "df['upper'] = df['MA20'] + 2*df['stddev'] # 상단밴드\n",
    "df['lower'] = df['MA20'] - 2*df['stddev'] # 하단밴드\n",
    "df['upper-lower'] = df['upper']-df['lower']\n",
    "\n",
    "df['MA20-MA5'] = df['MA20'] - df['MA5']\n",
    "df['MA60-MA20'] = df['MA60'] - df['MA20']\n",
    "\n",
    "\n",
    "# MACD\n",
    "macd_short, macd_long, macd_signal=12,26,9 #기본값\n",
    "df[\"MACD_short\"]=df['Close'].ewm(span=macd_short).mean()\n",
    "df[\"MACD_long\"]=df['Close'].ewm(span=macd_long).mean()\n",
    "df[\"MACD\"]=df.apply(lambda x: (x[\"MACD_short\"]-x[\"MACD_long\"]), axis=1)\n",
    "df[\"MACD_signal\"]=df[\"MACD\"].ewm(span=macd_signal).mean()  \n",
    "df[\"MACD_oscillator\"]=df.apply(lambda x:(x[\"MACD\"]-x[\"MACD_signal\"]), axis=1)\n",
    "df[\"MACD_sign\"]=df.apply(lambda x: (\"매수\" if x[\"MACD\"]>x[\"MACD_signal\"] else \"매도\"), axis=1)\n",
    "\n",
    "\n",
    "# fast_k, slow_k, slow_d를 획득\n",
    "df['fast_k5'] = get_stochastic_fast_k(df['Close'], df['Low'], df['High'], 5)\n",
    "df['slow_k3'] = get_stochastic_slow_k(df['fast_k5'], 3)\n",
    "df['slow_d3'] = get_stochastic_slow_d(df['slow_k3'], 3)\n",
    "\n",
    "df['fast_k10'] = get_stochastic_fast_k(df['Close'], df['Low'], df['High'], 10)\n",
    "df['slow_k6'] = get_stochastic_slow_k(df['fast_k10'], 6)\n",
    "df['slow_d6'] = get_stochastic_slow_d(df['slow_k6'], 6)\n",
    "\n",
    "df['fast_k20'] = get_stochastic_fast_k(df['Close'], df['Low'], df['High'], 20)\n",
    "df['slow_k12'] = get_stochastic_slow_k(df['fast_k20'], 12)\n",
    "df['slow_d12'] = get_stochastic_slow_d(df['slow_k12'], 12)\n",
    "\n",
    "\n",
    "# RSI\n",
    "df['rsi'] = get_rsi(df['Close'])"
   ]
  },
  {
   "cell_type": "code",
   "execution_count": 325,
   "id": "three-russell",
   "metadata": {},
   "outputs": [
    {
     "data": {
      "text/plain": [
       "-9.578509780092594"
      ]
     },
     "execution_count": 325,
     "metadata": {},
     "output_type": "execute_result"
    }
   ],
   "source": [
    "df['MA20-MA5'].mean()\n",
    "df['MA60-MA20'].mean()"
   ]
  },
  {
   "cell_type": "code",
   "execution_count": 70,
   "id": "split-equivalent",
   "metadata": {},
   "outputs": [
    {
     "data": {
      "text/html": [
       "<div>\n",
       "<style scoped>\n",
       "    .dataframe tbody tr th:only-of-type {\n",
       "        vertical-align: middle;\n",
       "    }\n",
       "\n",
       "    .dataframe tbody tr th {\n",
       "        vertical-align: top;\n",
       "    }\n",
       "\n",
       "    .dataframe thead th {\n",
       "        text-align: right;\n",
       "    }\n",
       "</style>\n",
       "<table border=\"1\" class=\"dataframe\">\n",
       "  <thead>\n",
       "    <tr style=\"text-align: right;\">\n",
       "      <th></th>\n",
       "      <th>Close</th>\n",
       "      <th>Open</th>\n",
       "      <th>High</th>\n",
       "      <th>Low</th>\n",
       "      <th>Volume</th>\n",
       "      <th>Change</th>\n",
       "      <th>MA5</th>\n",
       "      <th>MA20</th>\n",
       "      <th>MA60</th>\n",
       "      <th>MACD_short</th>\n",
       "      <th>...</th>\n",
       "      <th>fast_k5</th>\n",
       "      <th>slow_k3</th>\n",
       "      <th>slow_d3</th>\n",
       "      <th>fast_k10</th>\n",
       "      <th>slow_k6</th>\n",
       "      <th>slow_d6</th>\n",
       "      <th>fast_k20</th>\n",
       "      <th>slow_k12</th>\n",
       "      <th>slow_d12</th>\n",
       "      <th>rsi</th>\n",
       "    </tr>\n",
       "    <tr>\n",
       "      <th>Date</th>\n",
       "      <th></th>\n",
       "      <th></th>\n",
       "      <th></th>\n",
       "      <th></th>\n",
       "      <th></th>\n",
       "      <th></th>\n",
       "      <th></th>\n",
       "      <th></th>\n",
       "      <th></th>\n",
       "      <th></th>\n",
       "      <th></th>\n",
       "      <th></th>\n",
       "      <th></th>\n",
       "      <th></th>\n",
       "      <th></th>\n",
       "      <th></th>\n",
       "      <th></th>\n",
       "      <th></th>\n",
       "      <th></th>\n",
       "      <th></th>\n",
       "      <th></th>\n",
       "    </tr>\n",
       "  </thead>\n",
       "  <tbody>\n",
       "    <tr>\n",
       "      <th>2010-01-04</th>\n",
       "      <td>1696.14</td>\n",
       "      <td>1681.71</td>\n",
       "      <td>1696.14</td>\n",
       "      <td>1681.71</td>\n",
       "      <td>296550000.0</td>\n",
       "      <td>0.0079</td>\n",
       "      <td>NaN</td>\n",
       "      <td>NaN</td>\n",
       "      <td>NaN</td>\n",
       "      <td>1696.140000</td>\n",
       "      <td>...</td>\n",
       "      <td>NaN</td>\n",
       "      <td>NaN</td>\n",
       "      <td>NaN</td>\n",
       "      <td>NaN</td>\n",
       "      <td>NaN</td>\n",
       "      <td>NaN</td>\n",
       "      <td>NaN</td>\n",
       "      <td>NaN</td>\n",
       "      <td>NaN</td>\n",
       "      <td>NaN</td>\n",
       "    </tr>\n",
       "    <tr>\n",
       "      <th>2010-01-05</th>\n",
       "      <td>1690.62</td>\n",
       "      <td>1701.62</td>\n",
       "      <td>1702.39</td>\n",
       "      <td>1686.45</td>\n",
       "      <td>408850000.0</td>\n",
       "      <td>-0.0033</td>\n",
       "      <td>NaN</td>\n",
       "      <td>NaN</td>\n",
       "      <td>NaN</td>\n",
       "      <td>1693.150000</td>\n",
       "      <td>...</td>\n",
       "      <td>NaN</td>\n",
       "      <td>NaN</td>\n",
       "      <td>NaN</td>\n",
       "      <td>NaN</td>\n",
       "      <td>NaN</td>\n",
       "      <td>NaN</td>\n",
       "      <td>NaN</td>\n",
       "      <td>NaN</td>\n",
       "      <td>NaN</td>\n",
       "      <td>NaN</td>\n",
       "    </tr>\n",
       "    <tr>\n",
       "      <th>2010-01-06</th>\n",
       "      <td>1705.32</td>\n",
       "      <td>1697.88</td>\n",
       "      <td>1706.89</td>\n",
       "      <td>1696.10</td>\n",
       "      <td>426040000.0</td>\n",
       "      <td>0.0087</td>\n",
       "      <td>NaN</td>\n",
       "      <td>NaN</td>\n",
       "      <td>NaN</td>\n",
       "      <td>1697.899954</td>\n",
       "      <td>...</td>\n",
       "      <td>NaN</td>\n",
       "      <td>NaN</td>\n",
       "      <td>NaN</td>\n",
       "      <td>NaN</td>\n",
       "      <td>NaN</td>\n",
       "      <td>NaN</td>\n",
       "      <td>NaN</td>\n",
       "      <td>NaN</td>\n",
       "      <td>NaN</td>\n",
       "      <td>NaN</td>\n",
       "    </tr>\n",
       "    <tr>\n",
       "      <th>2010-01-07</th>\n",
       "      <td>1683.45</td>\n",
       "      <td>1702.92</td>\n",
       "      <td>1707.90</td>\n",
       "      <td>1683.45</td>\n",
       "      <td>462400000.0</td>\n",
       "      <td>-0.0128</td>\n",
       "      <td>NaN</td>\n",
       "      <td>NaN</td>\n",
       "      <td>NaN</td>\n",
       "      <td>1693.338668</td>\n",
       "      <td>...</td>\n",
       "      <td>NaN</td>\n",
       "      <td>NaN</td>\n",
       "      <td>NaN</td>\n",
       "      <td>NaN</td>\n",
       "      <td>NaN</td>\n",
       "      <td>NaN</td>\n",
       "      <td>NaN</td>\n",
       "      <td>NaN</td>\n",
       "      <td>NaN</td>\n",
       "      <td>NaN</td>\n",
       "    </tr>\n",
       "    <tr>\n",
       "      <th>2010-01-08</th>\n",
       "      <td>1695.26</td>\n",
       "      <td>1694.06</td>\n",
       "      <td>1695.26</td>\n",
       "      <td>1668.84</td>\n",
       "      <td>379950000.0</td>\n",
       "      <td>0.0070</td>\n",
       "      <td>1694.158</td>\n",
       "      <td>NaN</td>\n",
       "      <td>NaN</td>\n",
       "      <td>1693.860687</td>\n",
       "      <td>...</td>\n",
       "      <td>67.639529</td>\n",
       "      <td>NaN</td>\n",
       "      <td>NaN</td>\n",
       "      <td>NaN</td>\n",
       "      <td>NaN</td>\n",
       "      <td>NaN</td>\n",
       "      <td>NaN</td>\n",
       "      <td>NaN</td>\n",
       "      <td>NaN</td>\n",
       "      <td>NaN</td>\n",
       "    </tr>\n",
       "    <tr>\n",
       "      <th>...</th>\n",
       "      <td>...</td>\n",
       "      <td>...</td>\n",
       "      <td>...</td>\n",
       "      <td>...</td>\n",
       "      <td>...</td>\n",
       "      <td>...</td>\n",
       "      <td>...</td>\n",
       "      <td>...</td>\n",
       "      <td>...</td>\n",
       "      <td>...</td>\n",
       "      <td>...</td>\n",
       "      <td>...</td>\n",
       "      <td>...</td>\n",
       "      <td>...</td>\n",
       "      <td>...</td>\n",
       "      <td>...</td>\n",
       "      <td>...</td>\n",
       "      <td>...</td>\n",
       "      <td>...</td>\n",
       "      <td>...</td>\n",
       "      <td>...</td>\n",
       "    </tr>\n",
       "    <tr>\n",
       "      <th>2021-11-22</th>\n",
       "      <td>3013.25</td>\n",
       "      <td>2983.38</td>\n",
       "      <td>3018.01</td>\n",
       "      <td>2980.73</td>\n",
       "      <td>530960000.0</td>\n",
       "      <td>0.0142</td>\n",
       "      <td>2978.256</td>\n",
       "      <td>2980.6390</td>\n",
       "      <td>3049.147667</td>\n",
       "      <td>2977.110115</td>\n",
       "      <td>...</td>\n",
       "      <td>94.085487</td>\n",
       "      <td>50.792450</td>\n",
       "      <td>46.544114</td>\n",
       "      <td>95.835156</td>\n",
       "      <td>67.644003</td>\n",
       "      <td>50.148578</td>\n",
       "      <td>74.041777</td>\n",
       "      <td>41.755887</td>\n",
       "      <td>45.077062</td>\n",
       "      <td>53.716124</td>\n",
       "    </tr>\n",
       "    <tr>\n",
       "      <th>2021-11-23</th>\n",
       "      <td>2997.33</td>\n",
       "      <td>3013.16</td>\n",
       "      <td>3016.36</td>\n",
       "      <td>2992.14</td>\n",
       "      <td>524230000.0</td>\n",
       "      <td>-0.0053</td>\n",
       "      <td>2978.280</td>\n",
       "      <td>2978.0515</td>\n",
       "      <td>3046.798167</td>\n",
       "      <td>2980.220867</td>\n",
       "      <td>...</td>\n",
       "      <td>74.304175</td>\n",
       "      <td>71.144458</td>\n",
       "      <td>53.152671</td>\n",
       "      <td>81.905679</td>\n",
       "      <td>69.067452</td>\n",
       "      <td>56.223654</td>\n",
       "      <td>64.425327</td>\n",
       "      <td>43.363730</td>\n",
       "      <td>44.391978</td>\n",
       "      <td>50.991050</td>\n",
       "    </tr>\n",
       "    <tr>\n",
       "      <th>2021-11-24</th>\n",
       "      <td>2994.29</td>\n",
       "      <td>3006.34</td>\n",
       "      <td>3017.90</td>\n",
       "      <td>2981.02</td>\n",
       "      <td>556640000.0</td>\n",
       "      <td>-0.0010</td>\n",
       "      <td>2984.654</td>\n",
       "      <td>2976.4915</td>\n",
       "      <td>3044.256167</td>\n",
       "      <td>2982.385349</td>\n",
       "      <td>...</td>\n",
       "      <td>70.526839</td>\n",
       "      <td>79.638834</td>\n",
       "      <td>67.191914</td>\n",
       "      <td>79.245778</td>\n",
       "      <td>68.974470</td>\n",
       "      <td>60.740493</td>\n",
       "      <td>69.296098</td>\n",
       "      <td>45.880889</td>\n",
       "      <td>43.944713</td>\n",
       "      <td>50.464577</td>\n",
       "    </tr>\n",
       "    <tr>\n",
       "      <th>2021-11-25</th>\n",
       "      <td>2980.27</td>\n",
       "      <td>2996.74</td>\n",
       "      <td>2996.74</td>\n",
       "      <td>2973.24</td>\n",
       "      <td>595970000.0</td>\n",
       "      <td>-0.0047</td>\n",
       "      <td>2991.232</td>\n",
       "      <td>2975.0275</td>\n",
       "      <td>3041.785167</td>\n",
       "      <td>2982.059910</td>\n",
       "      <td>...</td>\n",
       "      <td>46.039462</td>\n",
       "      <td>63.623492</td>\n",
       "      <td>71.468928</td>\n",
       "      <td>53.106362</td>\n",
       "      <td>68.780289</td>\n",
       "      <td>64.459611</td>\n",
       "      <td>58.623066</td>\n",
       "      <td>47.660340</td>\n",
       "      <td>43.683121</td>\n",
       "      <td>48.003023</td>\n",
       "    </tr>\n",
       "    <tr>\n",
       "      <th>2021-11-26</th>\n",
       "      <td>2936.44</td>\n",
       "      <td>2973.04</td>\n",
       "      <td>2985.77</td>\n",
       "      <td>2930.31</td>\n",
       "      <td>595600000.0</td>\n",
       "      <td>-0.0147</td>\n",
       "      <td>2984.316</td>\n",
       "      <td>2973.3155</td>\n",
       "      <td>3038.494167</td>\n",
       "      <td>2975.041463</td>\n",
       "      <td>...</td>\n",
       "      <td>6.989738</td>\n",
       "      <td>41.185346</td>\n",
       "      <td>61.482557</td>\n",
       "      <td>6.989738</td>\n",
       "      <td>63.217558</td>\n",
       "      <td>66.276963</td>\n",
       "      <td>25.057436</td>\n",
       "      <td>49.368095</td>\n",
       "      <td>43.869051</td>\n",
       "      <td>41.231854</td>\n",
       "    </tr>\n",
       "  </tbody>\n",
       "</table>\n",
       "<p>2939 rows × 25 columns</p>\n",
       "</div>"
      ],
      "text/plain": [
       "              Close     Open     High      Low       Volume  Change       MA5  \\\n",
       "Date                                                                            \n",
       "2010-01-04  1696.14  1681.71  1696.14  1681.71  296550000.0  0.0079       NaN   \n",
       "2010-01-05  1690.62  1701.62  1702.39  1686.45  408850000.0 -0.0033       NaN   \n",
       "2010-01-06  1705.32  1697.88  1706.89  1696.10  426040000.0  0.0087       NaN   \n",
       "2010-01-07  1683.45  1702.92  1707.90  1683.45  462400000.0 -0.0128       NaN   \n",
       "2010-01-08  1695.26  1694.06  1695.26  1668.84  379950000.0  0.0070  1694.158   \n",
       "...             ...      ...      ...      ...          ...     ...       ...   \n",
       "2021-11-22  3013.25  2983.38  3018.01  2980.73  530960000.0  0.0142  2978.256   \n",
       "2021-11-23  2997.33  3013.16  3016.36  2992.14  524230000.0 -0.0053  2978.280   \n",
       "2021-11-24  2994.29  3006.34  3017.90  2981.02  556640000.0 -0.0010  2984.654   \n",
       "2021-11-25  2980.27  2996.74  2996.74  2973.24  595970000.0 -0.0047  2991.232   \n",
       "2021-11-26  2936.44  2973.04  2985.77  2930.31  595600000.0 -0.0147  2984.316   \n",
       "\n",
       "                 MA20         MA60   MACD_short  ...    fast_k5    slow_k3  \\\n",
       "Date                                             ...                         \n",
       "2010-01-04        NaN          NaN  1696.140000  ...        NaN        NaN   \n",
       "2010-01-05        NaN          NaN  1693.150000  ...        NaN        NaN   \n",
       "2010-01-06        NaN          NaN  1697.899954  ...        NaN        NaN   \n",
       "2010-01-07        NaN          NaN  1693.338668  ...        NaN        NaN   \n",
       "2010-01-08        NaN          NaN  1693.860687  ...  67.639529        NaN   \n",
       "...               ...          ...          ...  ...        ...        ...   \n",
       "2021-11-22  2980.6390  3049.147667  2977.110115  ...  94.085487  50.792450   \n",
       "2021-11-23  2978.0515  3046.798167  2980.220867  ...  74.304175  71.144458   \n",
       "2021-11-24  2976.4915  3044.256167  2982.385349  ...  70.526839  79.638834   \n",
       "2021-11-25  2975.0275  3041.785167  2982.059910  ...  46.039462  63.623492   \n",
       "2021-11-26  2973.3155  3038.494167  2975.041463  ...   6.989738  41.185346   \n",
       "\n",
       "              slow_d3   fast_k10    slow_k6    slow_d6   fast_k20   slow_k12  \\\n",
       "Date                                                                           \n",
       "2010-01-04        NaN        NaN        NaN        NaN        NaN        NaN   \n",
       "2010-01-05        NaN        NaN        NaN        NaN        NaN        NaN   \n",
       "2010-01-06        NaN        NaN        NaN        NaN        NaN        NaN   \n",
       "2010-01-07        NaN        NaN        NaN        NaN        NaN        NaN   \n",
       "2010-01-08        NaN        NaN        NaN        NaN        NaN        NaN   \n",
       "...               ...        ...        ...        ...        ...        ...   \n",
       "2021-11-22  46.544114  95.835156  67.644003  50.148578  74.041777  41.755887   \n",
       "2021-11-23  53.152671  81.905679  69.067452  56.223654  64.425327  43.363730   \n",
       "2021-11-24  67.191914  79.245778  68.974470  60.740493  69.296098  45.880889   \n",
       "2021-11-25  71.468928  53.106362  68.780289  64.459611  58.623066  47.660340   \n",
       "2021-11-26  61.482557   6.989738  63.217558  66.276963  25.057436  49.368095   \n",
       "\n",
       "             slow_d12        rsi  \n",
       "Date                              \n",
       "2010-01-04        NaN        NaN  \n",
       "2010-01-05        NaN        NaN  \n",
       "2010-01-06        NaN        NaN  \n",
       "2010-01-07        NaN        NaN  \n",
       "2010-01-08        NaN        NaN  \n",
       "...               ...        ...  \n",
       "2021-11-22  45.077062  53.716124  \n",
       "2021-11-23  44.391978  50.991050  \n",
       "2021-11-24  43.944713  50.464577  \n",
       "2021-11-25  43.683121  48.003023  \n",
       "2021-11-26  43.869051  41.231854  \n",
       "\n",
       "[2939 rows x 25 columns]"
      ]
     },
     "execution_count": 70,
     "metadata": {},
     "output_type": "execute_result"
    }
   ],
   "source": [
    "df"
   ]
  },
  {
   "cell_type": "code",
   "execution_count": 227,
   "id": "endangered-phoenix",
   "metadata": {},
   "outputs": [],
   "source": [
    "df['Close_t+5'] = df['Close'].shift(-5)\n",
    "df['Close_t+10'] = df['Close'].shift(-10)\n",
    "df['Close_t+20'] = df['Close'].shift(-20)\n",
    "\n",
    "features = [\n",
    "    'Close', 'Open', 'High', 'Low', 'Volume', 'MA5', 'MA20', 'MA60', \n",
    "    'MA60-MA20', 'MA20-MA5', 'MACD', 'MACD_oscillator', \n",
    "    'MACD_signal', 'fast_k5', 'slow_k3', 'slow_d3', 'fast_k10', 'slow_k6', 'slow_d6', \n",
    "    'fast_k20', 'slow_k12', 'slow_d12', 'rsi', 'upper', 'lower', 'stddev', 'upper-lower'\n",
    "]\n",
    "\n",
    "for feature in features:\n",
    "    df[feature+'-1']=df[feature].shift(1)"
   ]
  },
  {
   "cell_type": "markdown",
   "id": "synthetic-prairie",
   "metadata": {},
   "source": [
    "### 1. Regression으로 진행 (안됨)"
   ]
  },
  {
   "cell_type": "code",
   "execution_count": 128,
   "id": "irish-captain",
   "metadata": {},
   "outputs": [],
   "source": [
    "df['earn+5'] = df['Close_t+5']-df['Close'] #(df['Close'] < df['Close_t+5']).astype(int)\n",
    "df['earn+10'] = df['Close_t+10']-df['Close'] #(df['Close'] < df['Close_t+10']).astype(int)\n",
    "df['earn+20'] = df['Close_t+20']-df['Close'] #(df['Close'] < df['Close_t+20']).astype(int)"
   ]
  },
  {
   "cell_type": "code",
   "execution_count": 129,
   "id": "executive-favor",
   "metadata": {},
   "outputs": [
    {
     "data": {
      "text/plain": [
       "Text(0.5, 1.0, 'earn+20 size')"
      ]
     },
     "execution_count": 129,
     "metadata": {},
     "output_type": "execute_result"
    },
    {
     "data": {
      "image/png": "[encoded data removed]",
      "text/plain": [
       "<Figure size 432x288 with 1 Axes>"
      ]
     },
     "metadata": {
      "needs_background": "light"
     },
     "output_type": "display_data"
    }
   ],
   "source": [
    "df['earn+20'].plot()\n",
    "plt.title('earn+20 size')"
   ]
  },
  {
   "cell_type": "code",
   "execution_count": 85,
   "id": "impressive-state",
   "metadata": {},
   "outputs": [],
   "source": [
    "df_na = df.dropna()\n",
    "target = df_na['earn+20']"
   ]
  },
  {
   "cell_type": "code",
   "execution_count": 94,
   "id": "historical-commons",
   "metadata": {},
   "outputs": [],
   "source": [
    "from sklearn.model_selection import train_test_split\n",
    "\n",
    "X_train, X_test, y_train, y_test = train_test_split(df_na[features], target, test_size=0.25, random_state=123456)\n"
   ]
  },
  {
   "cell_type": "code",
   "execution_count": 98,
   "id": "patient-expansion",
   "metadata": {},
   "outputs": [
    {
     "name": "stdout",
     "output_type": "stream",
     "text": [
      "Linear Regression test file accuracy:0.057716697677128614\n"
     ]
    },
    {
     "name": "stderr",
     "output_type": "stream",
     "text": [
      "/Users/hyunsuk/.pyenv/versions/3.9.1/envs/ds/lib/python3.9/site-packages/sklearn/linear_model/_base.py:141: FutureWarning: 'normalize' was deprecated in version 1.0 and will be removed in 1.2.\n",
      "If you wish to scale the data, use Pipeline with a StandardScaler in a preprocessing stage. To reproduce the previous behavior:\n",
      "\n",
      "from sklearn.pipeline import make_pipeline\n",
      "\n",
      "model = make_pipeline(StandardScaler(with_mean=False), LinearRegression())\n",
      "\n",
      "If you wish to pass a sample_weight parameter, you need to pass it as a fit parameter to each step of the pipeline as follows:\n",
      "\n",
      "kwargs = {s[0] + '__sample_weight': sample_weight for s in model.steps}\n",
      "model.fit(X, y, **kwargs)\n",
      "\n",
      "\n",
      "  warnings.warn(\n"
     ]
    }
   ],
   "source": [
    "from sklearn.linear_model import LinearRegression\n",
    "\n",
    "\n",
    "lm = LinearRegression(fit_intercept=True, normalize=True, n_jobs=None)\n",
    "lm.fit(X_train, y_train)\n",
    "accuracy = lm.score(X_test, y_test)\n",
    "print(\"Linear Regression test file accuracy:\"+str(accuracy))\n"
   ]
  },
  {
   "cell_type": "code",
   "execution_count": 99,
   "id": "logical-broadway",
   "metadata": {},
   "outputs": [
    {
     "data": {
      "text/plain": [
       "array([-6.13120641e-01, -2.98599739e-01,  8.49312554e-01, -4.40871441e-01,\n",
       "        7.18278559e-08, -9.61937281e-01,  6.12754075e-01,  7.77471656e-01,\n",
       "        1.96909762e+00,  2.57807818e+00,  1.97042220e+00, -4.41000779e-03,\n",
       "       -6.60157371e-01,  6.91362182e-01,  1.10094061e-02, -7.33418830e-01,\n",
       "       -7.24416092e-02,  3.82928770e-02, -4.84667020e-01, -1.05420667e+00,\n",
       "        2.92874415e+00])"
      ]
     },
     "execution_count": 99,
     "metadata": {},
     "output_type": "execute_result"
    }
   ],
   "source": [
    "lm.coef_"
   ]
  },
  {
   "cell_type": "markdown",
   "id": "automotive-trial",
   "metadata": {},
   "source": [
    "### 2. Random Forest 분류로 진행"
   ]
  },
  {
   "cell_type": "code",
   "execution_count": 228,
   "id": "obvious-writer",
   "metadata": {},
   "outputs": [
    {
     "data": {
      "text/plain": [
       "Text(0.5, 1.0, 'earn+20 size')"
      ]
     },
     "execution_count": 228,
     "metadata": {},
     "output_type": "execute_result"
    },
    {
     "data": {
      "image/png": "[encoded data removed]",
      "text/plain": [
       "<Figure size 432x288 with 1 Axes>"
      ]
     },
     "metadata": {
      "needs_background": "light"
     },
     "output_type": "display_data"
    }
   ],
   "source": [
    "df['earn+5'] = (1.1*df['Close'] < df['Close_t+5']).astype(int)\n",
    "df['earn+10'] = (1.05*df['Close'] < df['Close_t+10']).astype(int)\n",
    "df['earn+20'] = (1.1*df['Close'] < df['Close_t+20']).astype(int)\n",
    "\n",
    "df['earn+20'].plot()\n",
    "plt.title('earn+20 size')"
   ]
  },
  {
   "cell_type": "code",
   "execution_count": 229,
   "id": "forced-preview",
   "metadata": {},
   "outputs": [
    {
     "name": "stderr",
     "output_type": "stream",
     "text": [
      "<ipython-input-229-df9304a44f2b>:2: UserWarning: Boolean Series key will be reindexed to match DataFrame index.\n",
      "  len(df_na[df['earn+20']==1])\n"
     ]
    },
    {
     "data": {
      "text/plain": [
       "64"
      ]
     },
     "execution_count": 229,
     "metadata": {},
     "output_type": "execute_result"
    }
   ],
   "source": [
    "df_na = df.dropna()\n",
    "len(df_na[df['earn+20']==1])"
   ]
  },
  {
   "cell_type": "code",
   "execution_count": 278,
   "id": "seeing-planning",
   "metadata": {},
   "outputs": [],
   "source": [
    "features = [\n",
    "    'Volume-1', 'MA20-MA5-1', 'MA60-MA20-1', 'MACD-1', 'MACD_oscillator-1', \n",
    "    'MACD_signal-1', 'slow_k3-1', 'slow_d3-1', 'slow_k6-1', 'slow_d6-1', \n",
    "    'slow_k12-1', 'slow_d12-1', 'rsi-1', 'upper-1', 'lower-1', 'stddev-1', 'upper-lower-1'\n",
    "]\n",
    "\n",
    "target = df_na['earn+20']"
   ]
  },
  {
   "cell_type": "code",
   "execution_count": 279,
   "id": "rotary-lighting",
   "metadata": {},
   "outputs": [],
   "source": [
    "from sklearn.model_selection import train_test_split\n",
    "\n",
    "X_train, X_test, y_train, y_test = train_test_split(df_na[features], target, test_size=0.25, random_state=3456)\n"
   ]
  },
  {
   "cell_type": "code",
   "execution_count": 280,
   "id": "noble-probe",
   "metadata": {},
   "outputs": [
    {
     "name": "stderr",
     "output_type": "stream",
     "text": [
      "/Users/hyunsuk/.pyenv/versions/3.9.1/envs/ds/lib/python3.9/site-packages/sklearn/base.py:445: UserWarning: X does not have valid feature names, but RandomForestClassifier was fitted with feature names\n",
      "  warnings.warn(\n"
     ]
    },
    {
     "data": {
      "text/plain": [
       "RandomForestClassifier(oob_score=True, random_state=123456)"
      ]
     },
     "execution_count": 280,
     "metadata": {},
     "output_type": "execute_result"
    }
   ],
   "source": [
    "from sklearn.ensemble import RandomForestClassifier\n",
    "\n",
    "rf = RandomForestClassifier(n_estimators=100, oob_score=True, random_state=123456)\n",
    "rf.fit(X_train, y_train)"
   ]
  },
  {
   "cell_type": "code",
   "execution_count": 281,
   "id": "together-schedule",
   "metadata": {},
   "outputs": [
    {
     "name": "stdout",
     "output_type": "stream",
     "text": [
      "Out-of-bag score estimate: 0.986\n",
      "Mean accuracy score: 0.987\n"
     ]
    }
   ],
   "source": [
    "from sklearn.metrics import accuracy_score\n",
    "\n",
    "predicted = rf.predict(X_test)\n",
    "accuracy = accuracy_score(y_test, predicted)\n",
    "\n",
    "print(f'Out-of-bag score estimate: {rf.oob_score_:.3}')\n",
    "print(f'Mean accuracy score: {accuracy:.3}')\n"
   ]
  },
  {
   "cell_type": "markdown",
   "id": "standard-harmony",
   "metadata": {},
   "source": [
    "### >> 예측 실패시 손실"
   ]
  },
  {
   "cell_type": "code",
   "execution_count": 328,
   "id": "pediatric-welsh",
   "metadata": {},
   "outputs": [
    {
     "name": "stdout",
     "output_type": "stream",
     "text": [
      "avg: 37.830000000000155\n",
      "min: 37.830000000000155\n",
      "max: 37.830000000000155\n"
     ]
    }
   ],
   "source": [
    "df_loss = df.loc[y_test[(y_test!=predicted) & (predicted==1)].index]\n",
    "print('avg: {}'.format((df_loss['Close_t+20'] - df_loss['Close']).mean()))\n",
    "print('min: {}'.format((df_loss['Close_t+20'] - df_loss['Close']).min()))\n",
    "print('max: {}'.format((df_loss['Close_t+20'] - df_loss['Close']).max()))\n"
   ]
  },
  {
   "cell_type": "code",
   "execution_count": 297,
   "id": "fabulous-communications",
   "metadata": {},
   "outputs": [
    {
     "data": {
      "image/png": "[encoded data removed]",
      "text/plain": [
       "<Figure size 432x288 with 1 Axes>"
      ]
     },
     "metadata": {
      "needs_background": "light"
     },
     "output_type": "display_data"
    }
   ],
   "source": [
    "import numpy as np\n",
    "\n",
    "importances = rf.feature_importances_\n",
    "std = np.std([tree.feature_importances_ for tree in rf.estimators_], axis=0)\n",
    "\n",
    "forest_importances = pd.Series(importances, index=features)\n",
    "\n",
    "fig, ax = plt.subplots()\n",
    "forest_importances.plot.bar(yerr=std, ax=ax)\n",
    "ax.set_title(\"Feature importances using MDI\")\n",
    "ax.set_ylabel(\"Mean decrease in impurity\")\n",
    "fig.tight_layout()"
   ]
  },
  {
   "cell_type": "code",
   "execution_count": 302,
   "id": "ideal-neutral",
   "metadata": {},
   "outputs": [
    {
     "data": {
      "image/png": "[encoded data removed]",
      "text/plain": [
       "<Figure size 432x288 with 1 Axes>"
      ]
     },
     "metadata": {
      "needs_background": "light"
     },
     "output_type": "display_data"
    }
   ],
   "source": [
    "# Get numerical feature importances\n",
    "\n",
    "importances = list(rf.feature_importances_)\n",
    "# List of tuples with variable and importance\n",
    "feature_importances = [(feature, round(importance, 2)) for feature, importance in zip(features, importances)]\n",
    "# Sort the feature importances by most important first\n",
    "feature_importances = sorted(feature_importances, key = lambda x: x[1], reverse = True)\n",
    "\n",
    "x_values = list(range(len(importances)))\n",
    "\n",
    "sorted_importances = [importance[1] for importance in feature_importances]\n",
    "sorted_features = [importance[0] for importance in feature_importances]\n",
    "# Cumulative importances\n",
    "cumulative_importances = np.cumsum(sorted_importances)\n",
    "# Make a line graph\n",
    "plt.plot(x_values, cumulative_importances, 'g-')\n",
    "# Draw line at 95% of importance retained\n",
    "plt.hlines(y = 0.95, xmin=0, xmax=len(sorted_importances), color = 'r', linestyles = 'dashed')\n",
    "# Format x ticks and labels\n",
    "plt.xticks(x_values, sorted_features, rotation = 'vertical')\n",
    "# Axis labels and title\n",
    "plt.xlabel('Variable'); plt.ylabel('Cumulative Importance'); plt.title('Cumulative Importances');"
   ]
  },
  {
   "cell_type": "code",
   "execution_count": 303,
   "id": "sorted-hobby",
   "metadata": {},
   "outputs": [
    {
     "data": {
      "image/png": "[encoded data removed]",
      "text/plain": [
       "<Figure size 432x288 with 1 Axes>"
      ]
     },
     "metadata": {
      "needs_background": "light"
     },
     "output_type": "display_data"
    }
   ],
   "source": [
    "# Permutation Importance\n",
    "from sklearn.inspection import permutation_importance\n",
    "\n",
    "result = permutation_importance(\n",
    "    rf, X_test, y_test, n_repeats=10, random_state=42, n_jobs=2\n",
    ")\n",
    "forest_importances = pd.Series(result.importances_mean, index=features)\n",
    "\n",
    "fig, ax = plt.subplots()\n",
    "forest_importances.plot.bar(yerr=result.importances_std, ax=ax)\n",
    "ax.set_title(\"Feature importances using permutation on full model\")\n",
    "ax.set_ylabel(\"Mean accuracy decrease\")\n",
    "fig.tight_layout()\n",
    "plt.show()\n"
   ]
  },
  {
   "cell_type": "markdown",
   "id": "hairy-dealer",
   "metadata": {},
   "source": [
    "### 3. Logistic Regression"
   ]
  },
  {
   "cell_type": "code",
   "execution_count": 164,
   "id": "satisfactory-bangladesh",
   "metadata": {},
   "outputs": [
    {
     "data": {
      "text/plain": [
       "Text(0.5, 1.0, 'earn+20 size')"
      ]
     },
     "execution_count": 164,
     "metadata": {},
     "output_type": "execute_result"
    },
    {
     "data": {
      "image/png": "[encoded data removed]",
      "text/plain": [
       "<Figure size 432x288 with 1 Axes>"
      ]
     },
     "metadata": {
      "needs_background": "light"
     },
     "output_type": "display_data"
    }
   ],
   "source": [
    "df['earn+5'] = (1.1*df['Close'] < df['Close_t+5']).astype(int)\n",
    "df['earn+10'] = (1.05*df['Close'] < df['Close_t+10']).astype(int)\n",
    "df['earn+20'] = (1.1*df['Close'] < df['Close_t+20']).astype(int)\n",
    "\n",
    "df['earn+20'].plot()\n",
    "plt.title('earn+20 size')"
   ]
  },
  {
   "cell_type": "code",
   "execution_count": 165,
   "id": "forced-happiness",
   "metadata": {},
   "outputs": [],
   "source": [
    "df_na = df.dropna()"
   ]
  },
  {
   "cell_type": "code",
   "execution_count": 213,
   "id": "statutory-month",
   "metadata": {},
   "outputs": [
    {
     "data": {
      "text/plain": [
       "64"
      ]
     },
     "execution_count": 213,
     "metadata": {},
     "output_type": "execute_result"
    }
   ],
   "source": [
    "len(df_na)   #2860\n",
    "len(df_na[df_na['earn+20']==1])  #64"
   ]
  },
  {
   "cell_type": "code",
   "execution_count": 272,
   "id": "pleasant-presentation",
   "metadata": {},
   "outputs": [],
   "source": [
    "features = [\n",
    "    'Volume-1', 'MA20-MA5-1', 'MA60-MA20-1', 'MACD-1', 'MACD_oscillator-1', \n",
    "    'MACD_signal-1', 'slow_k3-1', 'slow_d3-1', 'slow_k6-1', 'slow_d6-1', \n",
    "    'slow_k12-1', 'slow_d12-1', 'rsi-1', 'upper-1', 'lower-1', 'stddev-1', 'upper-lower-1'\n",
    "]\n",
    "\n",
    "target = df_na['earn+20']"
   ]
  },
  {
   "cell_type": "code",
   "execution_count": 273,
   "id": "certified-grave",
   "metadata": {},
   "outputs": [],
   "source": [
    "from sklearn.model_selection import train_test_split\n",
    "\n",
    "X_train, X_test, y_train, y_test = train_test_split(df_na[features], target, test_size=0.25, random_state=3456)"
   ]
  },
  {
   "cell_type": "code",
   "execution_count": 274,
   "id": "different-millennium",
   "metadata": {},
   "outputs": [
    {
     "data": {
      "text/plain": [
       "LogisticRegression()"
      ]
     },
     "execution_count": 274,
     "metadata": {},
     "output_type": "execute_result"
    }
   ],
   "source": [
    "from sklearn.linear_model import LogisticRegression\n",
    "from sklearn.preprocessing import StandardScaler\n",
    "scaler = StandardScaler()\n",
    "\n",
    "X_train = scaler.fit_transform(X_train)\n",
    "X_test = scaler.transform(X_test)\n",
    "\n",
    "model = LogisticRegression()\n",
    "model.fit(X_train, y_train)\n"
   ]
  },
  {
   "cell_type": "code",
   "execution_count": 275,
   "id": "exclusive-imagination",
   "metadata": {},
   "outputs": [
    {
     "data": {
      "text/plain": [
       "array([[ 0.7433049 ,  1.17893269,  1.80138369,  1.11362609, -0.06365772,\n",
       "         1.20631182, -0.2066521 ,  0.43618561,  0.48660171, -1.11305984,\n",
       "         0.30225714,  0.15845494,  0.23341359, -0.14904132, -0.24369882,\n",
       "         0.31564063,  0.31564063]])"
      ]
     },
     "execution_count": 275,
     "metadata": {},
     "output_type": "execute_result"
    }
   ],
   "source": [
    "model.score(X_train, y_train)\n",
    "model.coef_"
   ]
  },
  {
   "cell_type": "code",
   "execution_count": 276,
   "id": "absent-brick",
   "metadata": {},
   "outputs": [
    {
     "data": {
      "text/html": [
       "<div>\n",
       "<style scoped>\n",
       "    .dataframe tbody tr th:only-of-type {\n",
       "        vertical-align: middle;\n",
       "    }\n",
       "\n",
       "    .dataframe tbody tr th {\n",
       "        vertical-align: top;\n",
       "    }\n",
       "\n",
       "    .dataframe thead th {\n",
       "        text-align: right;\n",
       "    }\n",
       "</style>\n",
       "<table border=\"1\" class=\"dataframe\">\n",
       "  <thead>\n",
       "    <tr style=\"text-align: right;\">\n",
       "      <th></th>\n",
       "      <th>coef</th>\n",
       "    </tr>\n",
       "  </thead>\n",
       "  <tbody>\n",
       "    <tr>\n",
       "      <th>MA60-MA20-1</th>\n",
       "      <td>1.801384</td>\n",
       "    </tr>\n",
       "    <tr>\n",
       "      <th>MACD_signal-1</th>\n",
       "      <td>1.206312</td>\n",
       "    </tr>\n",
       "    <tr>\n",
       "      <th>MA20-MA5-1</th>\n",
       "      <td>1.178933</td>\n",
       "    </tr>\n",
       "    <tr>\n",
       "      <th>MACD-1</th>\n",
       "      <td>1.113626</td>\n",
       "    </tr>\n",
       "    <tr>\n",
       "      <th>Volume-1</th>\n",
       "      <td>0.743305</td>\n",
       "    </tr>\n",
       "    <tr>\n",
       "      <th>slow_k6-1</th>\n",
       "      <td>0.486602</td>\n",
       "    </tr>\n",
       "    <tr>\n",
       "      <th>slow_d3-1</th>\n",
       "      <td>0.436186</td>\n",
       "    </tr>\n",
       "    <tr>\n",
       "      <th>stddev-1</th>\n",
       "      <td>0.315641</td>\n",
       "    </tr>\n",
       "    <tr>\n",
       "      <th>upper-lower-1</th>\n",
       "      <td>0.315641</td>\n",
       "    </tr>\n",
       "    <tr>\n",
       "      <th>slow_k12-1</th>\n",
       "      <td>0.302257</td>\n",
       "    </tr>\n",
       "    <tr>\n",
       "      <th>rsi-1</th>\n",
       "      <td>0.233414</td>\n",
       "    </tr>\n",
       "    <tr>\n",
       "      <th>slow_d12-1</th>\n",
       "      <td>0.158455</td>\n",
       "    </tr>\n",
       "    <tr>\n",
       "      <th>MACD_oscillator-1</th>\n",
       "      <td>-0.063658</td>\n",
       "    </tr>\n",
       "    <tr>\n",
       "      <th>upper-1</th>\n",
       "      <td>-0.149041</td>\n",
       "    </tr>\n",
       "    <tr>\n",
       "      <th>slow_k3-1</th>\n",
       "      <td>-0.206652</td>\n",
       "    </tr>\n",
       "    <tr>\n",
       "      <th>lower-1</th>\n",
       "      <td>-0.243699</td>\n",
       "    </tr>\n",
       "    <tr>\n",
       "      <th>slow_d6-1</th>\n",
       "      <td>-1.113060</td>\n",
       "    </tr>\n",
       "  </tbody>\n",
       "</table>\n",
       "</div>"
      ],
      "text/plain": [
       "                       coef\n",
       "MA60-MA20-1        1.801384\n",
       "MACD_signal-1      1.206312\n",
       "MA20-MA5-1         1.178933\n",
       "MACD-1             1.113626\n",
       "Volume-1           0.743305\n",
       "slow_k6-1          0.486602\n",
       "slow_d3-1          0.436186\n",
       "stddev-1           0.315641\n",
       "upper-lower-1      0.315641\n",
       "slow_k12-1         0.302257\n",
       "rsi-1              0.233414\n",
       "slow_d12-1         0.158455\n",
       "MACD_oscillator-1 -0.063658\n",
       "upper-1           -0.149041\n",
       "slow_k3-1         -0.206652\n",
       "lower-1           -0.243699\n",
       "slow_d6-1         -1.113060"
      ]
     },
     "execution_count": 276,
     "metadata": {},
     "output_type": "execute_result"
    }
   ],
   "source": [
    "pd.DataFrame(model.coef_[0], features, columns=['coef']).sort_values(by='coef', ascending=False)"
   ]
  },
  {
   "cell_type": "code",
   "execution_count": null,
   "id": "norwegian-mouth",
   "metadata": {},
   "outputs": [],
   "source": []
  }
 ],
 "metadata": {
  "kernelspec": {
   "display_name": "Python 3",
   "language": "python",
   "name": "python3"
  },
  "language_info": {
   "codemirror_mode": {
    "name": "ipython",
    "version": 3
   },
   "file_extension": ".py",
   "mimetype": "text/x-python",
   "name": "python",
   "nbconvert_exporter": "python",
   "pygments_lexer": "ipython3",
   "version": "3.9.1"
  }
 },
 "nbformat": 4,
 "nbformat_minor": 5
}
