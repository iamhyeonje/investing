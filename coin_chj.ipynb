{
 "cells": [
  {
   "cell_type": "code",
   "execution_count": 1,
   "id": "located-train",
   "metadata": {},
   "outputs": [],
   "source": [
    "import pandas as pd\n",
    "import numpy as np\n",
    "import pyupbit\n",
    "import psycopg2\n",
    "import matplotlib.pyplot as plt\n",
    "\n",
    "from sklearn.ensemble import RandomForestClassifier\n",
    "from sklearn.model_selection import train_test_split\n",
    "from sklearn.metrics import accuracy_score\n",
    "\n",
    "import lightgbm as lgb"
   ]
  },
  {
   "cell_type": "markdown",
   "id": "indonesian-ukraine",
   "metadata": {},
   "source": [
    "## Load Dataset\n",
    "-----------------"
   ]
  },
  {
   "cell_type": "code",
   "execution_count": 2,
   "id": "offensive-lancaster",
   "metadata": {},
   "outputs": [],
   "source": [
    "# # Get data using upbit api\n",
    "# df = pyupbit.get_ohlcv(\"KRW-ETH\", interval=\"minute1\", count=106200)\n",
    "# df.rename_axis(\"datetime\", inplace=True)\n",
    "# df.to_csv(\"krw_eth_upbit.csv\")"
   ]
  },
  {
   "cell_type": "code",
   "execution_count": 3,
   "id": "european-recipient",
   "metadata": {},
   "outputs": [],
   "source": [
    "# # Get data from imhs db\n",
    "# t_port = 5432\n",
    "\n",
    "# connection = psycopg2.connect(host=t_host, dbname=t_dbname, user=t_user, password=t_passwsrd, port=t_port)\n",
    "# cursor = connection.cursor()\n",
    "# sql = \"\"\"\n",
    "#     SELECT *\n",
    "#     FROM coin_candles\n",
    "# \"\"\"\n",
    "# cursor.execute(sql)\n",
    "# df = pd.DataFrame(cursor.fetchall(), columns = [\"market\", \"datetime\", \"open\", \"high\", \"low\", \"close\", \"volume\", \"value\"])\n",
    "# df.set_index(\"datetime\", inplace=True)\n",
    "# df.to_csv(\"krw_eth_imhsdb.csv\")"
   ]
  },
  {
   "cell_type": "code",
   "execution_count": 4,
   "id": "thrown-smoke",
   "metadata": {},
   "outputs": [],
   "source": [
    "# Get data from a saved file\n",
    "df = pd.read_csv(\"krw_eth_upbit.csv\", index_col=\"datetime\")\n",
    "# df = pd.read_csv(\"krw_eth_imhsdb.csv\", index_col=\"datetime\")"
   ]
  },
  {
   "cell_type": "code",
   "execution_count": 5,
   "id": "alternate-mistake",
   "metadata": {},
   "outputs": [],
   "source": [
    "# df1 = pd.read_csv(\"krw_eth_upbit.csv\", index_col=\"datetime\")\n",
    "# df1 = df1.add_prefix(\"api_\")\n",
    "# df2 = pd.read_csv(\"krw_eth_imhsdb.csv\", index_col=\"datetime\")\n",
    "# df3 = df2.join(df1, how=\"left\")"
   ]
  },
  {
   "cell_type": "markdown",
   "id": "responsible-silver",
   "metadata": {},
   "source": [
    "## Generate Features\n",
    "---------------"
   ]
  },
  {
   "cell_type": "code",
   "execution_count": 6,
   "id": "expired-globe",
   "metadata": {},
   "outputs": [],
   "source": [
    "def get_stochastic_fast_k(close_price, low, high, n=5):\n",
    "    fast_k = ((close_price - low.rolling(n).min()) / (high.rolling(n).max() - low.rolling(n).min())) * 100\n",
    "    return fast_k\n",
    "\n",
    "# Slow %K = Fast %K의 m기간 이동평균(SMA)\n",
    "def get_stochastic_slow_k(fast_k, n=3):\n",
    "    slow_k = fast_k.rolling(n).mean()\n",
    "    return slow_k\n",
    "\n",
    "# Slow %D = Slow %K의 t기간 이동평균(SMA)\n",
    "def get_stochastic_slow_d(slow_k, n=3):\n",
    "    slow_d = slow_k.rolling(n).mean()\n",
    "    return slow_d\n",
    "\n",
    "def get_macd(price, slow, fast, smooth):\n",
    "    exp1 = price.ewm(span = fast, adjust = False).mean()\n",
    "    exp2 = price.ewm(span = slow, adjust = False).mean()\n",
    "    macd = pd.DataFrame(exp1 - exp2).rename(columns = {'close':'macd'})\n",
    "    signal = pd.DataFrame(macd.ewm(span = smooth, adjust = False).mean()).rename(columns = {'macd':'signal'})\n",
    "    hist = pd.DataFrame(macd['macd'] - signal['signal']).rename(columns = {0:'hist'})\n",
    "    frames =  [macd, signal, hist]\n",
    "    df = pd.concat(frames, join = 'inner', axis = 1)\n",
    "    return df\n",
    "\n",
    "def get_rsi(price, period=14):\n",
    "    delta = price.diff()\n",
    "    gains, declines = delta.copy(), delta.copy()\n",
    "    gains[gains < 0] = 0\n",
    "    declines[declines > 0] = 0\n",
    "    \n",
    "    _gain = gains.ewm(com=(period-1), min_periods=period).mean()\n",
    "    _loss = declines.abs().ewm(com=(period-1), min_periods=period).mean()\n",
    "    RS = _gain / _loss\n",
    "    \n",
    "    return pd.Series(100 - (100/(1+RS)), name = 'RSI')"
   ]
  },
  {
   "cell_type": "code",
   "execution_count": 7,
   "id": "advanced-angola",
   "metadata": {},
   "outputs": [],
   "source": [
    "ft = df[[\"open\", \"high\", \"low\", \"close\", \"volume\", \"value\"]].copy()\n",
    "\n",
    "## MA: 이동평균선\n",
    "ft['MA5'] = ft['close'].rolling(window=5).mean()\n",
    "ft['MA20'] = ft['close'].rolling(window=20).mean()\n",
    "ft['MA60'] = ft['close'].rolling(window=60).mean()\n",
    "# ft['MA200'] = ft['Close'].rolling(window=200).mean()\n",
    "\n",
    "ft['stddev'] = ft['close'].rolling(window=20).std() # 20일 이동표준편차\n",
    "ft['upper'] = ft['MA20'] + 2*ft['stddev'] # 상단밴드\n",
    "ft['lower'] = ft['MA20'] - 2*ft['stddev'] # 하단밴드\n",
    "ft['upper-lower'] = ft['upper']-ft['lower']\n",
    "\n",
    "ft['MA20-MA5'] = ft['MA20'] - ft['MA5']\n",
    "ft['MA60-MA20'] = ft['MA60'] - ft['MA20']\n",
    "\n",
    "# MACD\n",
    "macd_short, macd_long, macd_signal=12,26,9 #기본값\n",
    "ft[\"MACD_short\"]=ft['close'].ewm(span=macd_short).mean()\n",
    "ft[\"MACD_long\"]=ft['close'].ewm(span=macd_long).mean()\n",
    "ft[\"MACD\"]=ft.apply(lambda x: (x[\"MACD_short\"]-x[\"MACD_long\"]), axis=1)\n",
    "ft[\"MACD_signal\"]=ft[\"MACD\"].ewm(span=macd_signal).mean()  \n",
    "ft[\"MACD_oscillator\"]=ft.apply(lambda x:(x[\"MACD\"]-x[\"MACD_signal\"]), axis=1)\n",
    "ft[\"MACD_sign\"]=ft.apply(lambda x: (\"매수\" if x[\"MACD\"]>x[\"MACD_signal\"] else \"매도\"), axis=1)\n",
    "\n",
    "# fast_k, slow_k, slow_d를 획득\n",
    "ft['fast_k5'] = get_stochastic_fast_k(ft['close'], ft['low'], ft['high'], 5)\n",
    "ft['slow_k3'] = get_stochastic_slow_k(ft['fast_k5'], 3)\n",
    "ft['slow_d3'] = get_stochastic_slow_d(ft['slow_k3'], 3)\n",
    "\n",
    "ft['fast_k10'] = get_stochastic_fast_k(ft['close'], ft['low'], ft['high'], 10)\n",
    "ft['slow_k6'] = get_stochastic_slow_k(ft['fast_k10'], 6)\n",
    "ft['slow_d6'] = get_stochastic_slow_d(ft['slow_k6'], 6)\n",
    "\n",
    "ft['fast_k20'] = get_stochastic_fast_k(ft['close'], ft['low'], ft['high'], 20)\n",
    "ft['slow_k12'] = get_stochastic_slow_k(ft['fast_k20'], 12)\n",
    "ft['slow_d12'] = get_stochastic_slow_d(ft['slow_k12'], 12)\n",
    "\n",
    "# RSI\n",
    "ft['rsi'] = get_rsi(ft['close'])\n",
    "\n",
    "#t-1의 값을 Feature로 사용하기 위함\n",
    "features = [\n",
    "    'close', 'open', 'high', 'low', 'volume', 'MA5', 'MA20', 'MA60', \n",
    "    'MA60-MA20', 'MA20-MA5', 'MACD', 'MACD_oscillator', \n",
    "    'MACD_signal', 'fast_k5', 'slow_k3', 'slow_d3', 'fast_k10', 'slow_k6', 'slow_d6', \n",
    "    'fast_k20', 'slow_k12', 'slow_d12', 'rsi', 'upper', 'lower', 'stddev', 'upper-lower'\n",
    "]\n",
    "for feature in features:\n",
    "    ft[feature+'-1']=ft[feature].shift(1)"
   ]
  },
  {
   "cell_type": "code",
   "execution_count": 8,
   "id": "prostate-population",
   "metadata": {},
   "outputs": [],
   "source": [
    "ft.dropna(inplace=True)"
   ]
  },
  {
   "cell_type": "markdown",
   "id": "powerful-trinidad",
   "metadata": {
    "tags": []
   },
   "source": [
    "## Make Labels"
   ]
  },
  {
   "cell_type": "code",
   "execution_count": 9,
   "id": "satisfied-circus",
   "metadata": {},
   "outputs": [],
   "source": [
    "target_th = 0.02 # target earning rate per trade\n",
    "fee = 0.0005 # trade fee\n",
    "max_window = 120 # minutes"
   ]
  },
  {
   "cell_type": "code",
   "execution_count": 10,
   "id": "concrete-resource",
   "metadata": {},
   "outputs": [],
   "source": [
    "# option1 - Hit the target after fixed window size\n",
    "y1 = df[[\"close\"]].copy()\n",
    "y1[\"close_t+20\"] = y1[\"close\"].shift(-20)\n",
    "y1[\"close_t+60\"] = y1[\"close\"].shift(-60)\n",
    "y1[\"close_t+120\"] = y1[\"close\"].shift(-120)\n",
    "\n",
    "y1['earn+20'] = ((1 + target_th) * y1['close'] < y1['close_t+20']).astype(int)\n",
    "y1['earn+60'] = ((1 + target_th) * y1['close'] < y1['close_t+60']).astype(int)\n",
    "y1['earn+120'] = ((1 + target_th) * y1['close'] < y1['close_t+120']).astype(int)\n",
    "\n",
    "y1[\"target\"] = y1[\"earn+120\"]\n",
    "y1.dropna(inplace=True)"
   ]
  },
  {
   "cell_type": "code",
   "execution_count": 11,
   "id": "excellent-promise",
   "metadata": {},
   "outputs": [],
   "source": [
    "# Option2 - Hit the target in max_window (=120)\n",
    "y2 = df[[\"close\"]].copy()\n",
    "y2.sort_index(inplace=True, ascending=False)\n",
    "y2[\"max_in_wind\"] = y2.rolling(max_window, closed=\"left\").max()\n",
    "y2[\"max_earn_in_wind\"] = y2[\"max_in_wind\"] / y2[\"close\"] - 1\n",
    "y2[\"target\"] = (y2[\"max_earn_in_wind\"] >= target_th).astype(int)\n",
    "y2.sort_index(inplace=True)\n",
    "y2[\"clost_t+{}\".format(max_window)] = y2[\"close\"].shift(-max_window)\n",
    "y2.dropna(inplace=True)"
   ]
  },
  {
   "cell_type": "code",
   "execution_count": 12,
   "id": "prime-constitutional",
   "metadata": {},
   "outputs": [],
   "source": [
    "# Option3 - Multi Classification \n",
    "y3 = df[[\"close\"]].copy()\n",
    "\n",
    "class_unit = 10 #minutes\n",
    "for t in range(class_unit, max_window + class_unit, class_unit):\n",
    "    y3[\"close_t+{}\".format(t)] = y3[\"close\"].shift(-t)\n",
    "    y3[\"earn+{}\".format(t)] = ((y3[\"close_t+{}\".format(t)] / y3[\"close\"] - 1) > target_th).astype(int)\n",
    "\n",
    "selected_columns = [\"earn+{}\".format(t) for t in range(class_unit, max_window+class_unit, class_unit)]\n",
    "target = y3[selected_columns].values.argmax(axis=1) + 1\n",
    "target[y3[selected_columns].values.sum(axis=1) == 0] = 0\n",
    "y3[\"target\"] = target\n",
    "y3.dropna(inplace=True)"
   ]
  },
  {
   "cell_type": "markdown",
   "id": "spatial-reply",
   "metadata": {},
   "source": [
    "## Train Model"
   ]
  },
  {
   "cell_type": "code",
   "execution_count": 13,
   "id": "confident-zealand",
   "metadata": {},
   "outputs": [],
   "source": [
    "selected_features = [\n",
    "    'volume-1', 'MA20-MA5-1', 'MA60-MA20-1', 'MACD-1', 'MACD_oscillator-1', \n",
    "    'MACD_signal-1', 'slow_k3-1', 'slow_d3-1', 'slow_k6-1', 'slow_d6-1', \n",
    "    'slow_k12-1', 'slow_d12-1', 'rsi-1', 'upper-1', 'lower-1', 'stddev-1', 'upper-lower-1'\n",
    "]\n",
    "data1 = ft[selected_features].join(y1[[\"target\"]], how=\"inner\")\n",
    "data2 = ft[selected_features].join(y2[[\"target\"]], how=\"inner\")\n",
    "data3 = ft[selected_features].join(y3[[\"target\"]], how=\"inner\")"
   ]
  },
  {
   "cell_type": "code",
   "execution_count": 14,
   "id": "returning-childhood",
   "metadata": {},
   "outputs": [
    {
     "data": {
      "text/plain": [
       "<AxesSubplot:xlabel='datetime'>"
      ]
     },
     "execution_count": 14,
     "metadata": {},
     "output_type": "execute_result"
    },
    {
     "data": {
      "image/png": "[encoded data removed]",
      "text/plain": [
       "<Figure size 1800x216 with 1 Axes>"
      ]
     },
     "metadata": {
      "needs_background": "light"
     },
     "output_type": "display_data"
    }
   ],
   "source": [
    "data1[\"target\"].plot(figsize=(25, 3))"
   ]
  },
  {
   "cell_type": "code",
   "execution_count": 15,
   "id": "charged-china",
   "metadata": {},
   "outputs": [
    {
     "data": {
      "text/plain": [
       "<AxesSubplot:xlabel='datetime'>"
      ]
     },
     "execution_count": 15,
     "metadata": {},
     "output_type": "execute_result"
    },
    {
     "data": {
      "image/png": "[encoded data removed]",
      "text/plain": [
       "<Figure size 1800x216 with 1 Axes>"
      ]
     },
     "metadata": {
      "needs_background": "light"
     },
     "output_type": "display_data"
    }
   ],
   "source": [
    "data2[\"target\"].plot(figsize=(25, 3))"
   ]
  },
  {
   "cell_type": "code",
   "execution_count": 16,
   "id": "digital-commons",
   "metadata": {},
   "outputs": [
    {
     "data": {
      "text/plain": [
       "<AxesSubplot:xlabel='datetime'>"
      ]
     },
     "execution_count": 16,
     "metadata": {},
     "output_type": "execute_result"
    },
    {
     "data": {
      "image/png": "[encoded data removed]",
      "text/plain": [
       "<Figure size 1800x216 with 1 Axes>"
      ]
     },
     "metadata": {
      "needs_background": "light"
     },
     "output_type": "display_data"
    }
   ],
   "source": [
    "data3[\"target\"].plot(figsize=(25, 3))"
   ]
  },
  {
   "cell_type": "code",
   "execution_count": 17,
   "id": "fitted-criminal",
   "metadata": {},
   "outputs": [],
   "source": [
    "start_date = \"2021-11-01 00:00\"\n",
    "split_date = \"2021-12-01 00:00\""
   ]
  },
  {
   "cell_type": "markdown",
   "id": "varying-coverage",
   "metadata": {},
   "source": [
    "### Option 1"
   ]
  },
  {
   "cell_type": "code",
   "execution_count": 43,
   "id": "exact-malaysia",
   "metadata": {},
   "outputs": [],
   "source": [
    "data1_train = data1[start_date:split_date]\n",
    "data1_train = data1_train.sample(frac=1)\n",
    "data1_test = data1[split_date:]"
   ]
  },
  {
   "cell_type": "code",
   "execution_count": 44,
   "id": "competitive-assumption",
   "metadata": {
    "scrolled": true,
    "tags": []
   },
   "outputs": [
    {
     "data": {
      "text/plain": [
       "RandomForestClassifier(n_jobs=-1, oob_score=True, random_state=123456)"
      ]
     },
     "execution_count": 44,
     "metadata": {},
     "output_type": "execute_result"
    }
   ],
   "source": [
    "rf1 = RandomForestClassifier(n_estimators=100, oob_score=True, random_state=123456, n_jobs=-1)\n",
    "rf1.fit(data1_train[selected_features].values, data1_train[\"target\"])"
   ]
  },
  {
   "cell_type": "code",
   "execution_count": 45,
   "id": "engaging-jimmy",
   "metadata": {},
   "outputs": [
    {
     "name": "stdout",
     "output_type": "stream",
     "text": [
      "Out-of-bag score estimate: 0.982\n",
      "Mean accuracy score: 0.96\n"
     ]
    }
   ],
   "source": [
    "predicted = rf1.predict(data1_test[selected_features].values)\n",
    "accuracy = accuracy_score(data1_test[\"target\"], predicted)\n",
    "print(f'Out-of-bag score estimate: {rf1.oob_score_:.3}')\n",
    "print(f'Mean accuracy score: {accuracy:.3}')"
   ]
  },
  {
   "cell_type": "code",
   "execution_count": 46,
   "id": "collect-projector",
   "metadata": {},
   "outputs": [
    {
     "data": {
      "text/plain": [
       "652"
      ]
     },
     "execution_count": 46,
     "metadata": {},
     "output_type": "execute_result"
    }
   ],
   "source": [
    "data1_test[\"target\"].sum()"
   ]
  },
  {
   "cell_type": "code",
   "execution_count": 47,
   "id": "corporate-ebony",
   "metadata": {},
   "outputs": [
    {
     "data": {
      "text/plain": [
       "73"
      ]
     },
     "execution_count": 47,
     "metadata": {},
     "output_type": "execute_result"
    }
   ],
   "source": [
    "((predicted == 1) & (data1_test[\"target\"] == predicted)).sum()"
   ]
  },
  {
   "cell_type": "code",
   "execution_count": 48,
   "id": "comic-monthly",
   "metadata": {},
   "outputs": [
    {
     "data": {
      "text/plain": [
       "167"
      ]
     },
     "execution_count": 48,
     "metadata": {},
     "output_type": "execute_result"
    }
   ],
   "source": [
    "((predicted == 1) & (data1_test[\"target\"] != predicted)).sum()"
   ]
  },
  {
   "cell_type": "code",
   "execution_count": 49,
   "id": "still-weather",
   "metadata": {},
   "outputs": [
    {
     "name": "stdout",
     "output_type": "stream",
     "text": [
      "avg: 42910.17964071856\n",
      "min: -121000.0\n",
      "max: 98000.0\n"
     ]
    }
   ],
   "source": [
    "y1.loc[split_date:, \"predicted\"] = predicted\n",
    "loss1 = y1.loc[data1_test[(data1_test[\"target\"] !=predicted) & (predicted==1)].index]\n",
    "print('avg: {}'.format((loss1['close_t+120'] - loss1['close']).mean()))\n",
    "print('min: {}'.format((loss1['close_t+120'] - loss1['close']).min()))\n",
    "print('max: {}'.format((loss1['close_t+120'] - loss1['close']).max()))"
   ]
  },
  {
   "cell_type": "code",
   "execution_count": 50,
   "id": "entitled-hearts",
   "metadata": {},
   "outputs": [
    {
     "data": {
      "text/html": [
       "<div>\n",
       "<style scoped>\n",
       "    .dataframe tbody tr th:only-of-type {\n",
       "        vertical-align: middle;\n",
       "    }\n",
       "\n",
       "    .dataframe tbody tr th {\n",
       "        vertical-align: top;\n",
       "    }\n",
       "\n",
       "    .dataframe thead th {\n",
       "        text-align: right;\n",
       "    }\n",
       "</style>\n",
       "<table border=\"1\" class=\"dataframe\">\n",
       "  <thead>\n",
       "    <tr style=\"text-align: right;\">\n",
       "      <th></th>\n",
       "      <th>close</th>\n",
       "      <th>close_t+20</th>\n",
       "      <th>close_t+60</th>\n",
       "      <th>close_t+120</th>\n",
       "      <th>earn+20</th>\n",
       "      <th>earn+60</th>\n",
       "      <th>earn+120</th>\n",
       "      <th>target</th>\n",
       "      <th>predicted</th>\n",
       "    </tr>\n",
       "    <tr>\n",
       "      <th>datetime</th>\n",
       "      <th></th>\n",
       "      <th></th>\n",
       "      <th></th>\n",
       "      <th></th>\n",
       "      <th></th>\n",
       "      <th></th>\n",
       "      <th></th>\n",
       "      <th></th>\n",
       "      <th></th>\n",
       "    </tr>\n",
       "  </thead>\n",
       "  <tbody>\n",
       "    <tr>\n",
       "      <th>2021-12-04 16:49:00</th>\n",
       "      <td>4944000.0</td>\n",
       "      <td>5031000.0</td>\n",
       "      <td>5064000.0</td>\n",
       "      <td>4954000.0</td>\n",
       "      <td>0</td>\n",
       "      <td>1</td>\n",
       "      <td>0</td>\n",
       "      <td>0</td>\n",
       "      <td>1.0</td>\n",
       "    </tr>\n",
       "    <tr>\n",
       "      <th>2021-12-04 16:50:00</th>\n",
       "      <td>4956000.0</td>\n",
       "      <td>5029000.0</td>\n",
       "      <td>5050000.0</td>\n",
       "      <td>4925000.0</td>\n",
       "      <td>0</td>\n",
       "      <td>0</td>\n",
       "      <td>0</td>\n",
       "      <td>0</td>\n",
       "      <td>1.0</td>\n",
       "    </tr>\n",
       "    <tr>\n",
       "      <th>2021-12-04 16:51:00</th>\n",
       "      <td>4960000.0</td>\n",
       "      <td>5033000.0</td>\n",
       "      <td>5063000.0</td>\n",
       "      <td>4948000.0</td>\n",
       "      <td>0</td>\n",
       "      <td>1</td>\n",
       "      <td>0</td>\n",
       "      <td>0</td>\n",
       "      <td>1.0</td>\n",
       "    </tr>\n",
       "    <tr>\n",
       "      <th>2021-12-04 16:52:00</th>\n",
       "      <td>4961000.0</td>\n",
       "      <td>5030000.0</td>\n",
       "      <td>5064000.0</td>\n",
       "      <td>4948000.0</td>\n",
       "      <td>0</td>\n",
       "      <td>1</td>\n",
       "      <td>0</td>\n",
       "      <td>0</td>\n",
       "      <td>1.0</td>\n",
       "    </tr>\n",
       "    <tr>\n",
       "      <th>2021-12-04 16:53:00</th>\n",
       "      <td>4978000.0</td>\n",
       "      <td>5032000.0</td>\n",
       "      <td>5069000.0</td>\n",
       "      <td>4959000.0</td>\n",
       "      <td>0</td>\n",
       "      <td>0</td>\n",
       "      <td>0</td>\n",
       "      <td>0</td>\n",
       "      <td>1.0</td>\n",
       "    </tr>\n",
       "    <tr>\n",
       "      <th>...</th>\n",
       "      <td>...</td>\n",
       "      <td>...</td>\n",
       "      <td>...</td>\n",
       "      <td>...</td>\n",
       "      <td>...</td>\n",
       "      <td>...</td>\n",
       "      <td>...</td>\n",
       "      <td>...</td>\n",
       "      <td>...</td>\n",
       "    </tr>\n",
       "    <tr>\n",
       "      <th>2021-12-13 18:27:00</th>\n",
       "      <td>4956000.0</td>\n",
       "      <td>4956000.0</td>\n",
       "      <td>4946000.0</td>\n",
       "      <td>4965000.0</td>\n",
       "      <td>0</td>\n",
       "      <td>0</td>\n",
       "      <td>0</td>\n",
       "      <td>0</td>\n",
       "      <td>1.0</td>\n",
       "    </tr>\n",
       "    <tr>\n",
       "      <th>2021-12-13 18:28:00</th>\n",
       "      <td>4956000.0</td>\n",
       "      <td>4956000.0</td>\n",
       "      <td>4946000.0</td>\n",
       "      <td>4964000.0</td>\n",
       "      <td>0</td>\n",
       "      <td>0</td>\n",
       "      <td>0</td>\n",
       "      <td>0</td>\n",
       "      <td>1.0</td>\n",
       "    </tr>\n",
       "    <tr>\n",
       "      <th>2021-12-13 18:29:00</th>\n",
       "      <td>4961000.0</td>\n",
       "      <td>4958000.0</td>\n",
       "      <td>4945000.0</td>\n",
       "      <td>4962000.0</td>\n",
       "      <td>0</td>\n",
       "      <td>0</td>\n",
       "      <td>0</td>\n",
       "      <td>0</td>\n",
       "      <td>1.0</td>\n",
       "    </tr>\n",
       "    <tr>\n",
       "      <th>2021-12-13 18:31:00</th>\n",
       "      <td>4958000.0</td>\n",
       "      <td>4964000.0</td>\n",
       "      <td>4950000.0</td>\n",
       "      <td>4965000.0</td>\n",
       "      <td>0</td>\n",
       "      <td>0</td>\n",
       "      <td>0</td>\n",
       "      <td>0</td>\n",
       "      <td>1.0</td>\n",
       "    </tr>\n",
       "    <tr>\n",
       "      <th>2021-12-13 18:32:00</th>\n",
       "      <td>4953000.0</td>\n",
       "      <td>4963000.0</td>\n",
       "      <td>4954000.0</td>\n",
       "      <td>4971000.0</td>\n",
       "      <td>0</td>\n",
       "      <td>0</td>\n",
       "      <td>0</td>\n",
       "      <td>0</td>\n",
       "      <td>1.0</td>\n",
       "    </tr>\n",
       "  </tbody>\n",
       "</table>\n",
       "<p>167 rows × 9 columns</p>\n",
       "</div>"
      ],
      "text/plain": [
       "                         close  close_t+20  close_t+60  close_t+120  earn+20  \\\n",
       "datetime                                                                       \n",
       "2021-12-04 16:49:00  4944000.0   5031000.0   5064000.0    4954000.0        0   \n",
       "2021-12-04 16:50:00  4956000.0   5029000.0   5050000.0    4925000.0        0   \n",
       "2021-12-04 16:51:00  4960000.0   5033000.0   5063000.0    4948000.0        0   \n",
       "2021-12-04 16:52:00  4961000.0   5030000.0   5064000.0    4948000.0        0   \n",
       "2021-12-04 16:53:00  4978000.0   5032000.0   5069000.0    4959000.0        0   \n",
       "...                        ...         ...         ...          ...      ...   \n",
       "2021-12-13 18:27:00  4956000.0   4956000.0   4946000.0    4965000.0        0   \n",
       "2021-12-13 18:28:00  4956000.0   4956000.0   4946000.0    4964000.0        0   \n",
       "2021-12-13 18:29:00  4961000.0   4958000.0   4945000.0    4962000.0        0   \n",
       "2021-12-13 18:31:00  4958000.0   4964000.0   4950000.0    4965000.0        0   \n",
       "2021-12-13 18:32:00  4953000.0   4963000.0   4954000.0    4971000.0        0   \n",
       "\n",
       "                     earn+60  earn+120  target  predicted  \n",
       "datetime                                                   \n",
       "2021-12-04 16:49:00        1         0       0        1.0  \n",
       "2021-12-04 16:50:00        0         0       0        1.0  \n",
       "2021-12-04 16:51:00        1         0       0        1.0  \n",
       "2021-12-04 16:52:00        1         0       0        1.0  \n",
       "2021-12-04 16:53:00        0         0       0        1.0  \n",
       "...                      ...       ...     ...        ...  \n",
       "2021-12-13 18:27:00        0         0       0        1.0  \n",
       "2021-12-13 18:28:00        0         0       0        1.0  \n",
       "2021-12-13 18:29:00        0         0       0        1.0  \n",
       "2021-12-13 18:31:00        0         0       0        1.0  \n",
       "2021-12-13 18:32:00        0         0       0        1.0  \n",
       "\n",
       "[167 rows x 9 columns]"
      ]
     },
     "execution_count": 50,
     "metadata": {},
     "output_type": "execute_result"
    }
   ],
   "source": [
    "loss1"
   ]
  },
  {
   "cell_type": "markdown",
   "id": "minute-serve",
   "metadata": {
    "tags": []
   },
   "source": [
    "### Option 2"
   ]
  },
  {
   "cell_type": "code",
   "execution_count": 25,
   "id": "scheduled-convergence",
   "metadata": {},
   "outputs": [],
   "source": [
    "data2_train = data2[start_date:split_date]\n",
    "data2_train = data2_train.sample(frac=1)\n",
    "data2_test = data2[split_date:]"
   ]
  },
  {
   "cell_type": "code",
   "execution_count": 26,
   "id": "former-trader",
   "metadata": {},
   "outputs": [
    {
     "data": {
      "text/plain": [
       "RandomForestClassifier(n_jobs=-1, oob_score=True, random_state=123456)"
      ]
     },
     "execution_count": 26,
     "metadata": {},
     "output_type": "execute_result"
    }
   ],
   "source": [
    "rf2 = RandomForestClassifier(n_estimators=100, oob_score=True, random_state=123456, n_jobs=-1)\n",
    "rf2.fit(data2_train[selected_features].values, data2_train[\"target\"])"
   ]
  },
  {
   "cell_type": "code",
   "execution_count": 27,
   "id": "buried-parish",
   "metadata": {},
   "outputs": [
    {
     "name": "stdout",
     "output_type": "stream",
     "text": [
      "Out-of-bag score estimate: 0.966\n",
      "Mean accuracy score: 0.925\n"
     ]
    }
   ],
   "source": [
    "predicted = rf2.predict(data2_test[selected_features].values)\n",
    "accuracy = accuracy_score(data2_test[\"target\"], predicted)\n",
    "print(f'Out-of-bag score estimate: {rf2.oob_score_:.3}')\n",
    "print(f'Mean accuracy score: {accuracy:.3}')"
   ]
  },
  {
   "cell_type": "code",
   "execution_count": 28,
   "id": "strong-merit",
   "metadata": {},
   "outputs": [
    {
     "data": {
      "text/plain": [
       "1430"
      ]
     },
     "execution_count": 28,
     "metadata": {},
     "output_type": "execute_result"
    }
   ],
   "source": [
    "data2_test[\"target\"].sum()"
   ]
  },
  {
   "cell_type": "code",
   "execution_count": 38,
   "id": "cellular-rover",
   "metadata": {},
   "outputs": [
    {
     "data": {
      "text/plain": [
       "279"
      ]
     },
     "execution_count": 38,
     "metadata": {},
     "output_type": "execute_result"
    }
   ],
   "source": [
    "((predicted == 1) & (data2_test[\"target\"] == predicted)).sum()"
   ]
  },
  {
   "cell_type": "code",
   "execution_count": 40,
   "id": "front-clone",
   "metadata": {},
   "outputs": [
    {
     "data": {
      "text/plain": [
       "231"
      ]
     },
     "execution_count": 40,
     "metadata": {},
     "output_type": "execute_result"
    }
   ],
   "source": [
    "((predicted == 1) & (data2_test[\"target\"] != predicted)).sum()"
   ]
  },
  {
   "cell_type": "code",
   "execution_count": 30,
   "id": "stopped-relations",
   "metadata": {},
   "outputs": [],
   "source": [
    "y2.loc[split_date:, \"predicted\"] = predicted\n",
    "loss2 = y2.loc[data2_test[(data2_test[\"target\"] !=predicted) & (predicted==1)].index]"
   ]
  },
  {
   "cell_type": "code",
   "execution_count": 31,
   "id": "statutory-tiger",
   "metadata": {},
   "outputs": [
    {
     "data": {
      "text/html": [
       "<div>\n",
       "<style scoped>\n",
       "    .dataframe tbody tr th:only-of-type {\n",
       "        vertical-align: middle;\n",
       "    }\n",
       "\n",
       "    .dataframe tbody tr th {\n",
       "        vertical-align: top;\n",
       "    }\n",
       "\n",
       "    .dataframe thead th {\n",
       "        text-align: right;\n",
       "    }\n",
       "</style>\n",
       "<table border=\"1\" class=\"dataframe\">\n",
       "  <thead>\n",
       "    <tr style=\"text-align: right;\">\n",
       "      <th></th>\n",
       "      <th>close</th>\n",
       "      <th>max_in_wind</th>\n",
       "      <th>max_earn_in_wind</th>\n",
       "      <th>target</th>\n",
       "      <th>clost_t+120</th>\n",
       "      <th>predicted</th>\n",
       "    </tr>\n",
       "    <tr>\n",
       "      <th>datetime</th>\n",
       "      <th></th>\n",
       "      <th></th>\n",
       "      <th></th>\n",
       "      <th></th>\n",
       "      <th></th>\n",
       "      <th></th>\n",
       "    </tr>\n",
       "  </thead>\n",
       "  <tbody>\n",
       "    <tr>\n",
       "      <th>2021-12-04 14:04:00</th>\n",
       "      <td>5075000.0</td>\n",
       "      <td>5122000.0</td>\n",
       "      <td>0.009261</td>\n",
       "      <td>0</td>\n",
       "      <td>5003000.0</td>\n",
       "      <td>1.0</td>\n",
       "    </tr>\n",
       "    <tr>\n",
       "      <th>2021-12-04 14:05:00</th>\n",
       "      <td>5088000.0</td>\n",
       "      <td>5122000.0</td>\n",
       "      <td>0.006682</td>\n",
       "      <td>0</td>\n",
       "      <td>5000000.0</td>\n",
       "      <td>1.0</td>\n",
       "    </tr>\n",
       "    <tr>\n",
       "      <th>2021-12-04 14:06:00</th>\n",
       "      <td>5083000.0</td>\n",
       "      <td>5122000.0</td>\n",
       "      <td>0.007673</td>\n",
       "      <td>0</td>\n",
       "      <td>4977000.0</td>\n",
       "      <td>1.0</td>\n",
       "    </tr>\n",
       "    <tr>\n",
       "      <th>2021-12-04 14:07:00</th>\n",
       "      <td>5041000.0</td>\n",
       "      <td>5122000.0</td>\n",
       "      <td>0.016068</td>\n",
       "      <td>0</td>\n",
       "      <td>4957000.0</td>\n",
       "      <td>1.0</td>\n",
       "    </tr>\n",
       "    <tr>\n",
       "      <th>2021-12-04 14:09:00</th>\n",
       "      <td>5035000.0</td>\n",
       "      <td>5122000.0</td>\n",
       "      <td>0.017279</td>\n",
       "      <td>0</td>\n",
       "      <td>4940000.0</td>\n",
       "      <td>1.0</td>\n",
       "    </tr>\n",
       "    <tr>\n",
       "      <th>...</th>\n",
       "      <td>...</td>\n",
       "      <td>...</td>\n",
       "      <td>...</td>\n",
       "      <td>...</td>\n",
       "      <td>...</td>\n",
       "      <td>...</td>\n",
       "    </tr>\n",
       "    <tr>\n",
       "      <th>2021-12-13 18:28:00</th>\n",
       "      <td>4956000.0</td>\n",
       "      <td>4971000.0</td>\n",
       "      <td>0.003027</td>\n",
       "      <td>0</td>\n",
       "      <td>4964000.0</td>\n",
       "      <td>1.0</td>\n",
       "    </tr>\n",
       "    <tr>\n",
       "      <th>2021-12-13 18:29:00</th>\n",
       "      <td>4961000.0</td>\n",
       "      <td>4971000.0</td>\n",
       "      <td>0.002016</td>\n",
       "      <td>0</td>\n",
       "      <td>4962000.0</td>\n",
       "      <td>1.0</td>\n",
       "    </tr>\n",
       "    <tr>\n",
       "      <th>2021-12-13 19:07:00</th>\n",
       "      <td>4955000.0</td>\n",
       "      <td>4974000.0</td>\n",
       "      <td>0.003835</td>\n",
       "      <td>0</td>\n",
       "      <td>4974000.0</td>\n",
       "      <td>1.0</td>\n",
       "    </tr>\n",
       "    <tr>\n",
       "      <th>2021-12-13 19:08:00</th>\n",
       "      <td>4957000.0</td>\n",
       "      <td>4975000.0</td>\n",
       "      <td>0.003631</td>\n",
       "      <td>0</td>\n",
       "      <td>4975000.0</td>\n",
       "      <td>1.0</td>\n",
       "    </tr>\n",
       "    <tr>\n",
       "      <th>2021-12-13 19:23:00</th>\n",
       "      <td>4947000.0</td>\n",
       "      <td>4993000.0</td>\n",
       "      <td>0.009299</td>\n",
       "      <td>0</td>\n",
       "      <td>4993000.0</td>\n",
       "      <td>1.0</td>\n",
       "    </tr>\n",
       "  </tbody>\n",
       "</table>\n",
       "<p>231 rows × 6 columns</p>\n",
       "</div>"
      ],
      "text/plain": [
       "                         close  max_in_wind  max_earn_in_wind  target  \\\n",
       "datetime                                                                \n",
       "2021-12-04 14:04:00  5075000.0    5122000.0          0.009261       0   \n",
       "2021-12-04 14:05:00  5088000.0    5122000.0          0.006682       0   \n",
       "2021-12-04 14:06:00  5083000.0    5122000.0          0.007673       0   \n",
       "2021-12-04 14:07:00  5041000.0    5122000.0          0.016068       0   \n",
       "2021-12-04 14:09:00  5035000.0    5122000.0          0.017279       0   \n",
       "...                        ...          ...               ...     ...   \n",
       "2021-12-13 18:28:00  4956000.0    4971000.0          0.003027       0   \n",
       "2021-12-13 18:29:00  4961000.0    4971000.0          0.002016       0   \n",
       "2021-12-13 19:07:00  4955000.0    4974000.0          0.003835       0   \n",
       "2021-12-13 19:08:00  4957000.0    4975000.0          0.003631       0   \n",
       "2021-12-13 19:23:00  4947000.0    4993000.0          0.009299       0   \n",
       "\n",
       "                     clost_t+120  predicted  \n",
       "datetime                                     \n",
       "2021-12-04 14:04:00    5003000.0        1.0  \n",
       "2021-12-04 14:05:00    5000000.0        1.0  \n",
       "2021-12-04 14:06:00    4977000.0        1.0  \n",
       "2021-12-04 14:07:00    4957000.0        1.0  \n",
       "2021-12-04 14:09:00    4940000.0        1.0  \n",
       "...                          ...        ...  \n",
       "2021-12-13 18:28:00    4964000.0        1.0  \n",
       "2021-12-13 18:29:00    4962000.0        1.0  \n",
       "2021-12-13 19:07:00    4974000.0        1.0  \n",
       "2021-12-13 19:08:00    4975000.0        1.0  \n",
       "2021-12-13 19:23:00    4993000.0        1.0  \n",
       "\n",
       "[231 rows x 6 columns]"
      ]
     },
     "execution_count": 31,
     "metadata": {},
     "output_type": "execute_result"
    }
   ],
   "source": [
    "loss2"
   ]
  },
  {
   "cell_type": "code",
   "execution_count": null,
   "id": "rubber-begin",
   "metadata": {},
   "outputs": [],
   "source": []
  },
  {
   "cell_type": "markdown",
   "id": "multiple-seminar",
   "metadata": {},
   "source": [
    "## Playground..."
   ]
  },
  {
   "cell_type": "code",
   "execution_count": null,
   "id": "looking-boards",
   "metadata": {},
   "outputs": [],
   "source": [
    "# lightgbm 적용 - hyper-parameter 튜닝이 필요하다. \n",
    "train_ds = lgb.Dataset(data1_train[selected_features].values, label=data1_train[\"target\"], feature_name=selected_features)\n",
    "test_ds = lgb.Dataset(data1_test[selected_features].values, label=data1_test[\"target\"], feature_name=selected_features)\n",
    "params = {\"learning_rate\": 0.001,\n",
    "          \"max_depth\": 16,\n",
    "          \"boosting\": \"gbdt\",\n",
    "          \"objective\": \"binary\",\n",
    "          \"metric\": \"binary_logloss\",\n",
    "          \"is_training_metric\": True,\n",
    "          \"num_leaves\": 144,\n",
    "          \"feature_fraction\":0.9,\n",
    "          \"bagging_fraction\": 0.7,\n",
    "          \"bagging_freq\": 5,\n",
    "          \"seed\": 123456}\n",
    "\n",
    "model = lgb.train(params, train_ds, 1000, test_ds, verbose_eval=100, early_stopping_rounds=100)\n",
    "predicted = model.predict(data1_test[selected_features])"
   ]
  },
  {
   "cell_type": "code",
   "execution_count": 304,
   "id": "technological-blank",
   "metadata": {},
   "outputs": [
    {
     "data": {
      "text/plain": [
       "0"
      ]
     },
     "execution_count": 304,
     "metadata": {},
     "output_type": "execute_result"
    }
   ],
   "source": [
    "(predicted >= 0.5).astype(int).sum()"
   ]
  }
 ],
 "metadata": {
  "kernelspec": {
   "display_name": "Python 3",
   "language": "python",
   "name": "python3"
  },
  "language_info": {
   "codemirror_mode": {
    "name": "ipython",
    "version": 3
   },
   "file_extension": ".py",
   "mimetype": "text/x-python",
   "name": "python",
   "nbconvert_exporter": "python",
   "pygments_lexer": "ipython3",
   "version": "3.9.1"
  }
 },
 "nbformat": 4,
 "nbformat_minor": 5
}
